{
 "cells": [
  {
   "cell_type": "code",
   "execution_count": 293,
   "metadata": {
    "collapsed": true
   },
   "outputs": [],
   "source": [
    "import requests\n",
    "from parsel import Selector\n",
    "from collections import OrderedDict\n",
    "url = 'http://139.59.208.213/Z6JHLZCM/pelennor/'"
   ]
  },
  {
   "cell_type": "code",
   "execution_count": 294,
   "metadata": {
    "collapsed": false
   },
   "outputs": [],
   "source": [
    "def get_odds(r):\n",
    "    sel = Selector(text=r.text)\n",
    "    extr = sel.css('table td::text').extract()\n",
    "    #print (extr)\n",
    "    indexes = []\n",
    "    id_names = sel.css('input::attr(\"id\")').extract()\n",
    "    for id_val in sel.css('input::attr(\"id\")').extract():\n",
    "        #indexes.append(int((id_val[3:4] + id_val[5:6])))\n",
    "        indexes.append(id_val)\n",
    "    ps = {}\n",
    "    for idx in range(0, len(indexes)):\n",
    "        if extr[idx*5+3] not in ps:\n",
    "            ps[extr[idx*5+3]] = {}\n",
    "        ps[extr[idx*5+3]].update({indexes[idx]: extr[idx*5: idx*5+3]})\n",
    "    #ps = list(map(float, ps))\n",
    "    return ps\n"
   ]
  },
  {
   "cell_type": "code",
   "execution_count": 295,
   "metadata": {
    "collapsed": false
   },
   "outputs": [
    {
     "name": "stdout",
     "output_type": "stream",
     "text": [
      "{'Club Vales of Anduin v Cuivienen FC': {'id_2-14-money': ['2.71', '2.74', '2.63'], 'id_5-14-money': ['2.71', '2.69', '2.69'], 'id_3-14-money': ['2.44', '3.19', '2.57']}, 'FC Dark Land v VfL Dale Dragonslayers': {'id_1-12-money': ['3.33', '2.36', '2.57'], 'id_4-12-money': ['3.29', '2.73', '2.26'], 'id_6-12-money': ['3.34', '2.47', '2.44']}, 'SSC Dunharrow v AS Carn Dum': {'id_3-8-money': ['3.12', '2.65', '2.41'], 'id_5-8-money': ['3.15', '2.6', '2.43'], 'id_1-8-money': ['3.76', '2.36', '2.36']}, 'Bree City FC v Hobbiton CF': {'id_0-3-money': ['3.42', '1.84', '3.62'], 'id_1-3-money': ['3.45', '1.85', '3.55'], 'id_6-3-money': ['3.05', '2.05', '3.36']}, 'FC Fornost v PFC Avallone': {'id_1-0-money': ['3.32', '2.26', '2.7'], 'id_5-0-money': ['3.48', '2.07', '2.92'], 'id_3-0-money': ['3.71', '2.1', '2.72']}, 'PSV Harlond v PFC CSKA Egladil': {'id_3-15-money': ['2.48', '2.95', '2.69'], 'id_2-15-money': ['2.52', '3.2', '2.47'], 'id_4-15-money': ['2.27', '3.49', '2.58']}, 'Rivendell FC v SL Angband': {'id_5-1-money': ['7.9', '1.5', '3.11'], 'id_1-1-money': ['7.2', '1.64', '2.74'], 'id_6-1-money': ['5.8', '1.6', '3.15']}, 'Legia Umbar v FC Pellenor': {'id_2-11-money': ['2.15', '4.4', '2.37'], 'id_0-11-money': ['1.96', '4.2', '2.73'], 'id_4-11-money': ['2.08', '4.4', '2.44']}, 'Goblin Town v FC Minas Tirith': {'id_2-9-money': ['3.22', '1.75', '4.3'], 'id_0-9-money': ['3.53', '1.7', '4.1'], 'id_4-9-money': ['3.03', '1.85', '4.1']}, 'Olympique Annuminas v FC Mordor': {'id_0-5-money': ['2.66', '1.85', '5.0'], 'id_3-5-money': ['2.81', '1.82', '4.7'], 'id_5-5-money': ['2.48', '1.99', '4.8']}, 'Khazad Dum JK v Angmar FC': {'id_5-13-money': ['1.87', '2.53', '5.4'], 'id_3-13-money': ['1.8', '2.8', '4.9'], 'id_1-13-money': ['1.95', '2.51', '4.9']}, 'Club Dunland KV v Greenway': {'id_2-7-money': ['3.2', '4.3', '1.74'], 'id_0-7-money': ['2.97', '3.99', '1.9'], 'id_5-7-money': ['2.87', '4.6', '1.82']}, 'Alqualonde Swans v Aldburg City FC': {'id_0-10-money': ['1.96', '3.75', '2.97'], 'id_5-10-money': ['1.85', '4.4', '2.85'], 'id_1-10-money': ['2.02', '3.74', '2.86']}, 'Sporting Clube de Minas Morgul v FC Rohan': {'id_4-2-money': ['3.55', '2.4', '2.41'], 'id_6-2-money': ['3.92', '2.43', '2.24'], 'id_2-2-money': ['3.91', '2.6', '2.11']}, 'Fords of Isen v FC Bag End': {'id_5-6-money': ['2.89', '3.78', '1.99'], 'id_3-6-money': ['2.59', '3.98', '2.1'], 'id_0-6-money': ['2.82', '4.2', '1.9']}, 'Osgiliath FC v GNK Isengard': {'id_0-4-money': ['2.18', '2.71', '3.51'], 'id_1-4-money': ['2.06', '2.63', '4.0'], 'id_3-4-money': ['2.16', '2.89', '3.28']}}\n"
     ]
    }
   ],
   "source": [
    "total = 3.0\n",
    "r = requests.get(url)\n",
    "odds = get_odds(r)\n",
    "print(odds)"
   ]
  },
  {
   "cell_type": "code",
   "execution_count": 296,
   "metadata": {
    "collapsed": false
   },
   "outputs": [],
   "source": [
    "def do_bet():\n",
    "    global odds, total\n",
    "    import math\n",
    "    \n",
    "    all_ids = set()\n",
    "    \n",
    "    for match, match_data in odds.items():\n",
    "        for bookie, bookie_data in match_data.items():\n",
    "            all_ids.add(bookie)\n",
    "\n",
    "    for match, match_data in odds.items():\n",
    "        #print(match)\n",
    "\n",
    "        data = OrderedDict()\n",
    "        for id_ in all_ids:\n",
    "            data['{}-winner'.format(id_[3:-6])] = \"1\"\n",
    "            data['{}-money'.format(id_[3:-6])] = \"0.00\"\n",
    "\n",
    "        match_ids = []\n",
    "        odds_for = {\n",
    "            '1': [],\n",
    "            'X': [],\n",
    "            '2': [],\n",
    "        }\n",
    "        \n",
    "        for bookie, bookie_data in match_data.items():\n",
    "            match_ids.append(bookie)\n",
    "            odds_for['1'].append(float(bookie_data[0]))\n",
    "            odds_for['X'].append(float(bookie_data[1]))\n",
    "            odds_for['2'].append(float(bookie_data[2]))\n",
    "    \n",
    "        if len(match_ids) < 3:\n",
    "            continue\n",
    "    \n",
    "        #print(odds_for)\n",
    "\n",
    "        bets = {}\n",
    "        while odds_for:\n",
    "            best_odds = 0.\n",
    "            best_result = None\n",
    "            for result, bet_odds in odds_for.items():\n",
    "                m = max(bet_odds)\n",
    "                if m > best_odds:\n",
    "                    best_odds = m\n",
    "                    best_result = result\n",
    "            index = odds_for[best_result].index(best_odds)\n",
    "            del odds_for[best_result]\n",
    "            for bet_odds in odds_for.values():\n",
    "                bet_odds[index:index + 1] = [-1]\n",
    "            bets[best_result] = (index, best_odds)\n",
    "        #print(repr(bets))\n",
    "\n",
    "        total_odds = sum(map(lambda b: b[1], bets.values()))\n",
    "        a1 = round(total / bets['1'][1], 2)\n",
    "        a2 = round(total / bets['2'][1], 2)\n",
    "        aX = round(total / bets['X'][1], 2)\n",
    "\n",
    "        required = a1 + a2 + aX\n",
    "        #print(a1, a2, aX, required, total, required < total)\n",
    "\n",
    "        if total >= required:\n",
    "            place_bets = {}\n",
    "            for result, (index, odds_) in bets.items():\n",
    "                if result == '1':\n",
    "                    ammount = a1\n",
    "                elif result == '2':\n",
    "                    ammount = a2\n",
    "                else:\n",
    "                    ammount = aX\n",
    "                place_bets[index] = (result, ammount, odds_)\n",
    "\n",
    "            #print(place_bets)\n",
    "            if all(p[1] * p[2] > required for p in place_bets.values()):\n",
    "                for i, pb in place_bets.items():\n",
    "                    data['{}-winner'.format(match_ids[i][3:-6])] = pb[0]\n",
    "                    data['{}-money'.format(match_ids[i][3:-6])] = pb[1]\n",
    "                #print('betting', data)\n",
    "                break\n",
    "\n",
    "    #print(data)\n",
    "    if True:\n",
    "        r = requests.post(url, data=data)\n",
    "        #print(r.text)\n",
    "        sel = Selector(text=r.text)\n",
    "        total = float(sel.css('.money::text').extract_first())\n",
    "        extr = sel.css('table td::text').extract()\n",
    "        #print (total)\n",
    "        #for i in range(0, len(extr), 8):\n",
    "        #    print(extr[i:i + 8])\n",
    "        r = requests.post(url)\n",
    "        odds = get_odds(r)\n",
    "        #print(odds)\n"
   ]
  },
  {
   "cell_type": "code",
   "execution_count": 297,
   "metadata": {
    "collapsed": false,
    "scrolled": false
   },
   "outputs": [
    {
     "name": "stdout",
     "output_type": "stream",
     "text": [
      "1693.42\n",
      "1693.42\n",
      "1771.53\n",
      "1847.29\n",
      "1847.29\n",
      "1931.94\n"
     ]
    },
    {
     "ename": "TypeError",
     "evalue": "float() argument must be a string or a number, not 'NoneType'",
     "output_type": "error",
     "traceback": [
      "\u001b[0;31m---------------------------------------------------------------------------\u001b[0m",
      "\u001b[0;31mTypeError\u001b[0m                                 Traceback (most recent call last)",
      "\u001b[0;32m<ipython-input-297-9e81570a44e4>\u001b[0m in \u001b[0;36m<module>\u001b[0;34m()\u001b[0m\n\u001b[1;32m      1\u001b[0m \u001b[0;32mwhile\u001b[0m \u001b[0mtotal\u001b[0m \u001b[0;34m<\u001b[0m \u001b[0;36m2000\u001b[0m\u001b[0;34m:\u001b[0m\u001b[0;34m\u001b[0m\u001b[0m\n\u001b[0;32m----> 2\u001b[0;31m     \u001b[0mdo_bet\u001b[0m\u001b[0;34m(\u001b[0m\u001b[0;34m)\u001b[0m\u001b[0;34m\u001b[0m\u001b[0m\n\u001b[0m\u001b[1;32m      3\u001b[0m     \u001b[0mprint\u001b[0m \u001b[0;34m(\u001b[0m\u001b[0mtotal\u001b[0m\u001b[0;34m)\u001b[0m\u001b[0;34m\u001b[0m\u001b[0m\n",
      "\u001b[0;32m<ipython-input-296-0a4c1b1ea801>\u001b[0m in \u001b[0;36mdo_bet\u001b[0;34m()\u001b[0m\n\u001b[1;32m     83\u001b[0m         \u001b[0;31m#print(r.text)\u001b[0m\u001b[0;34m\u001b[0m\u001b[0;34m\u001b[0m\u001b[0m\n\u001b[1;32m     84\u001b[0m         \u001b[0msel\u001b[0m \u001b[0;34m=\u001b[0m \u001b[0mSelector\u001b[0m\u001b[0;34m(\u001b[0m\u001b[0mtext\u001b[0m\u001b[0;34m=\u001b[0m\u001b[0mr\u001b[0m\u001b[0;34m.\u001b[0m\u001b[0mtext\u001b[0m\u001b[0;34m)\u001b[0m\u001b[0;34m\u001b[0m\u001b[0m\n\u001b[0;32m---> 85\u001b[0;31m         \u001b[0mtotal\u001b[0m \u001b[0;34m=\u001b[0m \u001b[0mfloat\u001b[0m\u001b[0;34m(\u001b[0m\u001b[0msel\u001b[0m\u001b[0;34m.\u001b[0m\u001b[0mcss\u001b[0m\u001b[0;34m(\u001b[0m\u001b[0;34m'.money::text'\u001b[0m\u001b[0;34m)\u001b[0m\u001b[0;34m.\u001b[0m\u001b[0mextract_first\u001b[0m\u001b[0;34m(\u001b[0m\u001b[0;34m)\u001b[0m\u001b[0;34m)\u001b[0m\u001b[0;34m\u001b[0m\u001b[0m\n\u001b[0m\u001b[1;32m     86\u001b[0m         \u001b[0mextr\u001b[0m \u001b[0;34m=\u001b[0m \u001b[0msel\u001b[0m\u001b[0;34m.\u001b[0m\u001b[0mcss\u001b[0m\u001b[0;34m(\u001b[0m\u001b[0;34m'table td::text'\u001b[0m\u001b[0;34m)\u001b[0m\u001b[0;34m.\u001b[0m\u001b[0mextract\u001b[0m\u001b[0;34m(\u001b[0m\u001b[0;34m)\u001b[0m\u001b[0;34m\u001b[0m\u001b[0m\n\u001b[1;32m     87\u001b[0m         \u001b[0;31m#print (total)\u001b[0m\u001b[0;34m\u001b[0m\u001b[0;34m\u001b[0m\u001b[0m\n",
      "\u001b[0;31mTypeError\u001b[0m: float() argument must be a string or a number, not 'NoneType'"
     ]
    }
   ],
   "source": [
    "while total < 2000:\n",
    "    do_bet()\n",
    "    print (total)"
   ]
  },
  {
   "cell_type": "code",
   "execution_count": 279,
   "metadata": {
    "collapsed": false
   },
   "outputs": [
    {
     "data": {
      "text/plain": [
       "[2.74, 4.0, 1.99, 3.06, 4.0, 1.86, 2.97, 14.0, 1.42]"
      ]
     },
     "execution_count": 279,
     "metadata": {},
     "output_type": "execute_result"
    }
   ],
   "source": [
    "sel = Selector(text=r.text)\n",
    "extr = sel.css('table td::text').extract()\n",
    "ps = []\n",
    "ps = extr[0:3] + extr[5:8] + extr[10:13]\n",
    "ps = list(map(float, ps))\n",
    "ps"
   ]
  },
  {
   "cell_type": "code",
   "execution_count": null,
   "metadata": {
    "collapsed": true
   },
   "outputs": [],
   "source": []
  }
 ],
 "metadata": {
  "kernelspec": {
   "display_name": "Python 3",
   "language": "python",
   "name": "python3"
  },
  "language_info": {
   "codemirror_mode": {
    "name": "ipython",
    "version": 3
   },
   "file_extension": ".py",
   "mimetype": "text/x-python",
   "name": "python",
   "nbconvert_exporter": "python",
   "pygments_lexer": "ipython3",
   "version": "3.5.2"
  }
 },
 "nbformat": 4,
 "nbformat_minor": 1
}
