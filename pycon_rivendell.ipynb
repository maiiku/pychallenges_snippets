{
 "cells": [
  {
   "cell_type": "code",
   "execution_count": 2,
   "metadata": {
    "collapsed": false
   },
   "outputs": [],
   "source": [
    "painting = open('painting.bmp', 'rb').read()"
   ]
  },
  {
   "cell_type": "code",
   "execution_count": 82,
   "metadata": {
    "collapsed": false
   },
   "outputs": [
    {
     "data": {
      "text/plain": [
       "b\"\\x03\\xf3\\r\\n\\x15G\\x01Xc\\x00\\x00\\x00\\x00\\x00\\x00\\x00\\x00\\x02\\x00\\x00\\x00@\\x00\\x00\\x00s#\\x00\\x00\\x00d\\x00\\x00\\x84\\x00\\x00Z\\x00\\x00e\\x01\\x00d\\x01\\x00k\\x02\\x00r\\x1f\\x00e\\x00\\x00\\x83\\x00\\x00\\x01n\\x00\\x00d\\x02\\x00S(\\x03\\x00\\x00\\x00c\\x00\\x00\\x00\\x00\\x06\\x00\\x00\\x00\\x04\\x00\\x00\\x00\\x03\\x00\\x00\\x00s\\xd8\\x00\\x00\\x00d\\x01\\x00t\\x00\\x00f\\x01\\x00\\x87\\x00\\x00f\\x01\\x00d\\x02\\x00\\x86\\x00\\x00\\x83\\x00\\x00Y\\x89\\x00\\x00d\\x03\\x00}\\x00\\x00\\x88\\x00\\x00d\\x04\\x00|\\x00\\x00\\x16\\x83\\x01\\x00}\\x01\\x00|\\x01\\x00j\\x01\\x00d\\x05\\x00d\\x06\\x00t\\x02\\x00\\x83\\x01\\x01d\\x07\\x00\\x19}\\x02\\x00\\x88\\x00\\x00d\\x08\\x00\\x83\\x01\\x00}\\x03\\x00|\\x02\\x00d\\t\\x00j\\x03\\x00|\\x03\\x00j\\x01\\x00d\\n\\x00\\x83\\x01\\x00\\x83\\x01\\x00d\\x0b\\x00\\x177}\\x02\\x00\\x88\\x00\\x00d\\x0c\\x00\\x83\\x01\\x00}\\x04\\x00|\\x02\\x00d\\t\\x00j\\x03\\x00|\\x04\\x00j\\x01\\x00d\\x05\\x00\\x83\\x01\\x00\\x83\\x01\\x00d\\x0b\\x00\\x177}\\x02\\x00\\x88\\x00\\x00d\\r\\x00|\\x00\\x00\\x16\\x83\\x01\\x00}\\x05\\x00|\\x02\\x00d\\t\\x00j\\x03\\x00|\\x05\\x00j\\x01\\x00d\\x0e\\x00\\x83\\x01\\x00\\x83\\x01\\x007\\xff\\xff\\xff\\xff\\xff\\xff\\xff\\xff\\xff\\xff\\xff\\xff\\xff\\xff\\xff\\xff\\xff\\xff\\xff\\xff\\x00\\x00\\x00Paragraphc\\x00\\x00\\x00\\x00\\x00\\x00\\x00\\x00\\x02\\x00\\x00\\x00\\x02\\x00\\x00\\x00s#\\x00\\x00\\x00e\\x00\\x00Z\\x01\\x00\\x87\\x00\\x00f\\x01\\x00d\\x00\\x00\\x86\\x00\\x00Z\\x02\\x00e\\x03\\x00d\\x01\\x00\\x84\\x01\\x00Z\\x04\\x00RS(\\x02\\x00\\x00\\x00c\\x02\\x00\\x00\\x00\\x02\\x00\\x00\\x00\\x03\\x00\\x00\\x00\\x13\\x00\\x00\\x00s \\x00\\x00\\x00t\\x00\\x00\\x88\\x00\\x00|\\x00\\x00\\x83\\x02\\x00j\\x01\\x00\\x83\\x00\\x00\\x01|\\x01\\x00|\\x00\\x00_\\x02\\x00d\\x00\\x00S(\\x01\\x00\\x00\\x00N(\\x03\\x00\\x00\\x00t\\x05\\x00\\x00\\x00supert\\x08\\x00\\x00\\x00__init__t\\x04\\x00\\x00\\x00text(\\x02\\x00\\x00\\x00t\\x04\\x00\\x00\\x00selfR\\x03\\x00\\x00\\x00(\\x01\\x00\\x00\\x00R\\x00\\x00\\x00\\x00(\\x00\\x00\\x00\\x00sM\\x00\\x00\\x00/home/django/there_and_back_again/src/rivendell/rivendell_modules/YPQ8CT3G.pyR\\x02\\x00\\x00\\x00\\x03\\x00\\x00\\x00s\\x04\\x00\\x00\\x00\\x00\\x01\\x13\\x01c\\x03\\x00\\x00\\x00\\x03\\x00\\x00\\x00\\x02\\x00\\x00\\x00S\\x00\\x00\\x00s,\\x00\\x00\\x00|\\x02\\x00r\\x1a\\x00|\\x00\\x00j\\x00\\x00j\\x01\\x00\\x83\\x00\\x00g\\x01\\x00|\\x01\\x00\\x14S|\\x00\\x00j\\x00\\x00g\\x01\\x00|\\x01\\x00\\x14Sd\\x00\\x00S(\\x01\\x00\\x00\\x00N(\\x02\\x00\\xff\\xff\\xff\\xff\\xff\\xff\\xff\\xff\\xff\\xff\\xff\\xff\\xff\\xff\\xff\\xff\\xff\\xff\\xff\\xff\\x00\\x00R\\x04\\x00\\x00\\x00t\\x01\\x00\\x00\\x00iR\\x05\\x00\\x00\\x00(\\x00\\x00\\x00\\x00(\\x00\\x00\\x00\\x00sM\\x00\\x00\\x00/home/django/there_and_back_again/src/rivendell/rivendell_modules/YPQ8CT3G.pyt\\x07\\x00\\x00\\x00printer\\x07\\x00\\x00\\x00s\\x06\\x00\\x00\\x00\\x00\\x01\\x06\\x01\\x14\\x02(\\x05\\x00\\x00\\x00t\\x08\\x00\\x00\\x00__name__t\\n\\x00\\x00\\x00__module__R\\x02\\x00\\x00\\x00t\\x04\\x00\\x00\\x00TrueR\\x07\\x00\\x00\\x00(\\x00\\x00\\x00\\x00(\\x01\\x00\\x00\\x00R\\x00\\x00\\x00\\x00(\\x00\\x00\\x00\\x00sM\\x00\\x00\\x00/home/django/there_and_back_again/src/rivendell/rivendell_modules/YPQ8CT3G.pyR\\x00\\x00\\x00\\x00\\x02\\x00\\x00\\x00s\\x04\\x00\\x00\\x00\\x06\\x01\\x0f\\x04t\\x08\\x00\\x00\\x00Isengards!\\x00\\x00\\x00They're taking the hobbits to %s i\\x01\\x00\\x00\\x00R\\x05\\x00\\x00\\x00i\\x00\\x00\\x00\\x00s\\x0e\\x00\\x00\\x00they're takings\\x02\\x00\\x00\\x00, i\\x07\\x00\\x00\\x00t\\x01\\x00\\x00\\x00 s\\x0b\\x00\\x00\\x00the hobbitss\\x05\\x00\\x00\\x00to %si\\x08\\x00\\x00\\x00(\\x04\\x00\\x00\\x00t\\x06\\x00\\x00\\x00objectR\\x07\\x00\\x00\\x00t\\x05\\x00\\x00\\x00Falset\\x04\\x00\\x00\\x00join(\\x06\\x00\\x00\\x00t\\x05\\x00\\x00\\x00placet\\x0b\\x00\\x00\\x00paragraph_1t\\x08\\x00\\x00\\x00the_songt\\x0b\\x00\\x00\\x00paragraph_2t\\x0b\\x00\\x00\\x00paragraph_3t\\x0b\\x00\\x00\\x00paragraph_4(\\x00\\x00\\x00\\x00(\\x01\\x00\\x00\\x00R\\x00\\x00\\x00\\x00sM\\x00\\x00\\x00/home/django/there_and_back_again/src/rivendell/rivendell_modules/YPQ8CT3G.pyt\\t\\x00\\x00\\x00rivendell\\x01\\x00\\x00\\x00s\\x16\\x00\\x00\\x00\\x00\\x01\\x1c\\x0b\\x06\\x01\\x10\\x01\\x19\\x01\\x0c\\x01 \\x01\\x0c\\x01 \\x01\\x10\\x01\\x1c\\x01t\\x08\\x00\\x00\\x00__main__N(\\x02\\x00\\x00\\x00R\\x16\\x00\\x00\\x00R\\x08\\x00\\x00\\x00(\\x00\\x00\\x00\\x00(\\x00\\x00\\x00\\x00(\\x00\\x00\\x00\\x00sM\\x00\\x00\\x00/home/django/there_and_back_again/src/rivendell/rivendell_modules/YPQ8CT3G.pyt\\x08\\x00\\x00\\x00<module>\\x01\\x00\\x00\\x00s\\x04\\x00\\x00\\x00\\t\\x18\\x0c\\x01\""
      ]
     },
     "execution_count": 82,
     "metadata": {},
     "output_type": "execute_result"
    }
   ],
   "source": [
    "module = painting[57:]\n",
    "module"
   ]
  },
  {
   "cell_type": "code",
   "execution_count": 45,
   "metadata": {
    "collapsed": false
   },
   "outputs": [],
   "source": [
    "lines = []\n",
    "for i in range(20):\n",
    "    lines.append(open('{}.bmp'.format(i), 'rb').read())"
   ]
  },
  {
   "cell_type": "code",
   "execution_count": 46,
   "metadata": {
    "collapsed": false
   },
   "outputs": [],
   "source": [
    "cut_lines = list(map(lambda l: l[-21:-1], lines))"
   ]
  },
  {
   "cell_type": "code",
   "execution_count": 47,
   "metadata": {
    "collapsed": false
   },
   "outputs": [
    {
     "name": "stdout",
     "output_type": "stream",
     "text": [
      "True\n",
      "False\n",
      "False\n",
      "True\n",
      "False\n",
      "False\n",
      "False\n",
      "False\n",
      "False\n",
      "True\n",
      "False\n",
      "True\n",
      "True\n",
      "False\n",
      "False\n",
      "False\n",
      "False\n",
      "False\n",
      "False\n",
      "False\n"
     ]
    }
   ],
   "source": [
    "for l in cut_lines:\n",
    "    print(l in module)"
   ]
  },
  {
   "cell_type": "code",
   "execution_count": 48,
   "metadata": {
    "collapsed": false
   },
   "outputs": [],
   "source": [
    "import marshal"
   ]
  },
  {
   "cell_type": "code",
   "execution_count": 102,
   "metadata": {
    "collapsed": false
   },
   "outputs": [
    {
     "ename": "ValueError",
     "evalue": "bad marshal data (unknown type code)",
     "output_type": "error",
     "traceback": [
      "\u001b[0;31m---------------------------------------------------------------------------\u001b[0m",
      "\u001b[0;31mValueError\u001b[0m                                Traceback (most recent call last)",
      "\u001b[0;32m<ipython-input-102-36f25d9adb48>\u001b[0m in \u001b[0;36m<module>\u001b[0;34m()\u001b[0m\n\u001b[0;32m----> 1\u001b[0;31m \u001b[0mmarshal\u001b[0m\u001b[0;34m.\u001b[0m\u001b[0mloads\u001b[0m\u001b[0;34m(\u001b[0m\u001b[0mmodule\u001b[0m\u001b[0;34m[\u001b[0m\u001b[0;36m8\u001b[0m\u001b[0;34m:\u001b[0m\u001b[0;34m]\u001b[0m\u001b[0;34m)\u001b[0m\u001b[0;34m\u001b[0m\u001b[0m\n\u001b[0m",
      "\u001b[0;31mValueError\u001b[0m: bad marshal data (unknown type code)"
     ]
    }
   ],
   "source": [
    "marshal.loads(module[8:])"
   ]
  },
  {
   "cell_type": "code",
   "execution_count": 83,
   "metadata": {
    "collapsed": false
   },
   "outputs": [
    {
     "data": {
      "text/plain": [
       "b\"\\x03\\xf3\\r\\n\\x15G\\x01Xc\\x00\\x00\\x00\\x00\\x00\\x00\\x00\\x00\\x02\\x00\\x00\\x00@\\x00\\x00\\x00s#\\x00\\x00\\x00d\\x00\\x00\\x84\\x00\\x00Z\\x00\\x00e\\x01\\x00d\\x01\\x00k\\x02\\x00r\\x1f\\x00e\\x00\\x00\\x83\\x00\\x00\\x01n\\x00\\x00d\\x02\\x00S(\\x03\\x00\\x00\\x00c\\x00\\x00\\x00\\x00\\x06\\x00\\x00\\x00\\x04\\x00\\x00\\x00\\x03\\x00\\x00\\x00s\\xd8\\x00\\x00\\x00d\\x01\\x00t\\x00\\x00f\\x01\\x00\\x87\\x00\\x00f\\x01\\x00d\\x02\\x00\\x86\\x00\\x00\\x83\\x00\\x00Y\\x89\\x00\\x00d\\x03\\x00}\\x00\\x00\\x88\\x00\\x00d\\x04\\x00|\\x00\\x00\\x16\\x83\\x01\\x00}\\x01\\x00|\\x01\\x00j\\x01\\x00d\\x05\\x00d\\x06\\x00t\\x02\\x00\\x83\\x01\\x01d\\x07\\x00\\x19}\\x02\\x00\\x88\\x00\\x00d\\x08\\x00\\x83\\x01\\x00}\\x03\\x00|\\x02\\x00d\\t\\x00j\\x03\\x00|\\x03\\x00j\\x01\\x00d\\n\\x00\\x83\\x01\\x00\\x83\\x01\\x00d\\x0b\\x00\\x177}\\x02\\x00\\x88\\x00\\x00d\\x0c\\x00\\x83\\x01\\x00}\\x04\\x00|\\x02\\x00d\\t\\x00j\\x03\\x00|\\x04\\x00j\\x01\\x00d\\x05\\x00\\x83\\x01\\x00\\x83\\x01\\x00d\\x0b\\x00\\x177}\\x02\\x00\\x88\\x00\\x00d\\r\\x00|\\x00\\x00\\x16\\x83\\x01\\x00}\\x05\\x00|\\x02\\x00d\\t\\x00j\\x03\\x00|\\x05\\x00j\\x01\\x00d\\x0e\\x00\\x83\\x01\\x00\\x83\\x01\\x007\\xff\\xff\\xff\\xff\\xff\\xff\\xff\\xff\\xff\\xff\\xff\\xff\\xff\\xff\\xff\\xff\\xff\\xff\\xff\\xff\\x00\\x00\\x00Paragraphc\\x00\\x00\\x00\\x00\\x00\\x00\\x00\\x00\\x02\\x00\\x00\\x00\\x02\\x00\\x00\\x00s#\\x00\\x00\\x00e\\x00\\x00Z\\x01\\x00\\x87\\x00\\x00f\\x01\\x00d\\x00\\x00\\x86\\x00\\x00Z\\x02\\x00e\\x03\\x00d\\x01\\x00\\x84\\x01\\x00Z\\x04\\x00RS(\\x02\\x00\\x00\\x00c\\x02\\x00\\x00\\x00\\x02\\x00\\x00\\x00\\x03\\x00\\x00\\x00\\x13\\x00\\x00\\x00s \\x00\\x00\\x00t\\x00\\x00\\x88\\x00\\x00|\\x00\\x00\\x83\\x02\\x00j\\x01\\x00\\x83\\x00\\x00\\x01|\\x01\\x00|\\x00\\x00_\\x02\\x00d\\x00\\x00S(\\x01\\x00\\x00\\x00N(\\x03\\x00\\x00\\x00t\\x05\\x00\\x00\\x00supert\\x08\\x00\\x00\\x00__init__t\\x04\\x00\\x00\\x00text(\\x02\\x00\\x00\\x00t\\x04\\x00\\x00\\x00selfR\\x03\\x00\\x00\\x00(\\x01\\x00\\x00\\x00R\\x00\\x00\\x00\\x00(\\x00\\x00\\x00\\x00sM\\x00\\x00\\x00/home/django/there_and_back_again/src/rivendell/rivendell_modules/YPQ8CT3G.pyR\\x02\\x00\\x00\\x00\\x03\\x00\\x00\\x00s\\x04\\x00\\x00\\x00\\x00\\x01\\x13\\x01c\\x03\\x00\\x00\\x00\\x03\\x00\\x00\\x00\\x02\\x00\\x00\\x00S\\x00\\x00\\x00s,\\x00\\x00\\x00|\\x02\\x00r\\x1a\\x00|\\x00\\x00j\\x00\\x00j\\x01\\x00\\x83\\x00\\x00g\\x01\\x00|\\x01\\x00\\x14S|\\x00\\x00j\\x00\\x00g\\x01\\x00|\\x01\\x00\\x14Sd\\x00\\x00S(\\x01\\x00\\x00\\x00N(\\x02\\x00\\xff\\xff\\xff\\xff\\xff\\xff\\xff\\xff\\xff\\xff\\xff\\xff\\xff\\xff\\xff\\xff\\xff\\xff\\xff\\xff\\x00\\x00R\\x04\\x00\\x00\\x00t\\x01\\x00\\x00\\x00iR\\x05\\x00\\x00\\x00(\\x00\\x00\\x00\\x00(\\x00\\x00\\x00\\x00sM\\x00\\x00\\x00/home/django/there_and_back_again/src/rivendell/rivendell_modules/YPQ8CT3G.pyt\\x07\\x00\\x00\\x00printer\\x07\\x00\\x00\\x00s\\x06\\x00\\x00\\x00\\x00\\x01\\x06\\x01\\x14\\x02(\\x05\\x00\\x00\\x00t\\x08\\x00\\x00\\x00__name__t\\n\\x00\\x00\\x00__module__R\\x02\\x00\\x00\\x00t\\x04\\x00\\x00\\x00TrueR\\x07\\x00\\x00\\x00(\\x00\\x00\\x00\\x00(\\x01\\x00\\x00\\x00R\\x00\\x00\\x00\\x00(\\x00\\x00\\x00\\x00sM\\x00\\x00\\x00/home/django/there_and_back_again/src/rivendell/rivendell_modules/YPQ8CT3G.pyR\\x00\\x00\\x00\\x00\\x02\\x00\\x00\\x00s\\x04\\x00\\x00\\x00\\x06\\x01\\x0f\\x04t\\x08\\x00\\x00\\x00Isengards!\\x00\\x00\\x00They're taking the hobbits to %s i\\x01\\x00\\x00\\x00R\\x05\\x00\\x00\\x00i\\x00\\x00\\x00\\x00s\\x0e\\x00\\x00\\x00they're takings\\x02\\x00\\x00\\x00, i\\x07\\x00\\x00\\x00t\\x01\\x00\\x00\\x00 s\\x0b\\x00\\x00\\x00the hobbitss\\x05\\x00\\x00\\x00to %si\\x08\\x00\\x00\\x00(\\x04\\x00\\x00\\x00t\\x06\\x00\\x00\\x00objectR\\x07\\x00\\x00\\x00t\\x05\\x00\\x00\\x00Falset\\x04\\x00\\x00\\x00join(\\x06\\x00\\x00\\x00t\\x05\\x00\\x00\\x00placet\\x0b\\x00\\x00\\x00paragraph_1t\\x08\\x00\\x00\\x00the_songt\\x0b\\x00\\x00\\x00paragraph_2t\\x0b\\x00\\x00\\x00paragraph_3t\\x0b\\x00\\x00\\x00paragraph_4(\\x00\\x00\\x00\\x00(\\x01\\x00\\x00\\x00R\\x00\\x00\\x00\\x00sM\\x00\\x00\\x00/home/django/there_and_back_again/src/rivendell/rivendell_modules/YPQ8CT3G.pyt\\t\\x00\\x00\\x00rivendell\\x01\\x00\\x00\\x00s\\x16\\x00\\x00\\x00\\x00\\x01\\x1c\\x0b\\x06\\x01\\x10\\x01\\x19\\x01\\x0c\\x01 \\x01\\x0c\\x01 \\x01\\x10\\x01\\x1c\\x01t\\x08\\x00\\x00\\x00__main__N(\\x02\\x00\\x00\\x00R\\x16\\x00\\x00\\x00R\\x08\\x00\\x00\\x00(\\x00\\x00\\x00\\x00(\\x00\\x00\\x00\\x00(\\x00\\x00\\x00\\x00sM\\x00\\x00\\x00/home/django/there_and_back_again/src/rivendell/rivendell_modules/YPQ8CT3G.pyt\\x08\\x00\\x00\\x00<module>\\x01\\x00\\x00\\x00s\\x04\\x00\\x00\\x00\\t\\x18\\x0c\\x01\""
      ]
     },
     "execution_count": 83,
     "metadata": {},
     "output_type": "execute_result"
    }
   ],
   "source": [
    "module"
   ]
  },
  {
   "cell_type": "code",
   "execution_count": 95,
   "metadata": {
    "collapsed": false
   },
   "outputs": [
    {
     "data": {
      "text/plain": [
       "b'\\xff\\xff\\xff\\xff\\xff\\xff\\xff\\xff\\xff\\xff\\xff\\xff\\xff\\xff\\xff\\xff\\xff\\xff\\xff\\xff'"
      ]
     },
     "execution_count": 95,
     "metadata": {},
     "output_type": "execute_result"
    }
   ],
   "source": [
    "module[15 * 5 * 4 - 4:15 * 5 * 4 + 16]"
   ]
  },
  {
   "cell_type": "code",
   "execution_count": 96,
   "metadata": {
    "collapsed": false
   },
   "outputs": [
    {
     "data": {
      "text/plain": [
       "b'\\xff\\xff\\xff\\xff\\xff\\xff\\xff\\xff\\xff\\xff\\xff\\xff\\xff\\xff\\xff\\xff\\xff\\xff\\xff\\xff'"
      ]
     },
     "execution_count": 96,
     "metadata": {},
     "output_type": "execute_result"
    }
   ],
   "source": [
    "module[35 * 5 * 4 - 4:35 * 5 * 4 + 16]"
   ]
  },
  {
   "cell_type": "code",
   "execution_count": 101,
   "metadata": {
    "collapsed": false
   },
   "outputs": [
    {
     "name": "stdout",
     "output_type": "stream",
     "text": [
      "bad marshal data (unknown type code)\n",
      "bad marshal data (unknown type code)\n",
      "bad marshal data (unknown type code)\n",
      "bad marshal data (unknown type code)\n",
      "bad marshal data (unknown type code)\n",
      "bad marshal data (unknown type code)\n",
      "bad marshal data (unknown type code)\n",
      "bad marshal data (unknown type code)\n",
      "bad marshal data (unknown type code)\n",
      "bad marshal data (unknown type code)\n",
      "bad marshal data (unknown type code)\n",
      "bad marshal data (unknown type code)\n",
      "bad marshal data (unknown type code)\n",
      "bad marshal data (unknown type code)\n",
      "bad marshal data (unknown type code)\n",
      "bad marshal data (unknown type code)\n",
      "bad marshal data (unknown type code)\n",
      "bad marshal data (unknown type code)\n",
      "bad marshal data (unknown type code)\n",
      "bad marshal data (unknown type code)\n",
      "bad marshal data (unknown type code)\n",
      "bad marshal data (unknown type code)\n",
      "bad marshal data (unknown type code)\n",
      "bad marshal data (unknown type code)\n",
      "bad marshal data (unknown type code)\n",
      "bad marshal data (unknown type code)\n",
      "bad marshal data (unknown type code)\n",
      "bad marshal data (unknown type code)\n",
      "bad marshal data (unknown type code)\n",
      "bad marshal data (unknown type code)\n",
      "bad marshal data (unknown type code)\n",
      "bad marshal data (unknown type code)\n",
      "bad marshal data (unknown type code)\n",
      "bad marshal data (unknown type code)\n",
      "bad marshal data (unknown type code)\n",
      "bad marshal data (unknown type code)\n",
      "bad marshal data (unknown type code)\n",
      "bad marshal data (unknown type code)\n",
      "bad marshal data (unknown type code)\n",
      "bad marshal data (unknown type code)\n",
      "bad marshal data (unknown type code)\n",
      "bad marshal data (unknown type code)\n",
      "bad marshal data (unknown type code)\n",
      "bad marshal data (unknown type code)\n",
      "bad marshal data (unknown type code)\n",
      "bad marshal data (unknown type code)\n",
      "bad marshal data (unknown type code)\n",
      "bad marshal data (unknown type code)\n",
      "bad marshal data (unknown type code)\n",
      "bad marshal data (unknown type code)\n",
      "bad marshal data (unknown type code)\n",
      "bad marshal data (unknown type code)\n",
      "bad marshal data (unknown type code)\n",
      "bad marshal data (unknown type code)\n",
      "bad marshal data (unknown type code)\n",
      "bad marshal data (unknown type code)\n",
      "bad marshal data (unknown type code)\n",
      "bad marshal data (unknown type code)\n",
      "bad marshal data (unknown type code)\n",
      "bad marshal data (unknown type code)\n",
      "bad marshal data (unknown type code)\n",
      "bad marshal data (unknown type code)\n",
      "bad marshal data (unknown type code)\n",
      "bad marshal data (unknown type code)\n",
      "bad marshal data (unknown type code)\n",
      "bad marshal data (unknown type code)\n",
      "bad marshal data (unknown type code)\n",
      "bad marshal data (unknown type code)\n",
      "bad marshal data (unknown type code)\n",
      "bad marshal data (unknown type code)\n",
      "bad marshal data (unknown type code)\n",
      "bad marshal data (unknown type code)\n",
      "bad marshal data (unknown type code)\n",
      "bad marshal data (unknown type code)\n",
      "bad marshal data (unknown type code)\n",
      "bad marshal data (unknown type code)\n",
      "bad marshal data (unknown type code)\n",
      "bad marshal data (unknown type code)\n",
      "bad marshal data (unknown type code)\n",
      "bad marshal data (unknown type code)\n",
      "bad marshal data (unknown type code)\n",
      "bad marshal data (unknown type code)\n",
      "bad marshal data (unknown type code)\n",
      "bad marshal data (unknown type code)\n",
      "bad marshal data (unknown type code)\n",
      "bad marshal data (unknown type code)\n",
      "bad marshal data (unknown type code)\n",
      "bad marshal data (unknown type code)\n",
      "bad marshal data (unknown type code)\n",
      "bad marshal data (unknown type code)\n",
      "bad marshal data (unknown type code)\n",
      "bad marshal data (unknown type code)\n",
      "bad marshal data (unknown type code)\n",
      "bad marshal data (unknown type code)\n",
      "bad marshal data (unknown type code)\n",
      "bad marshal data (unknown type code)\n",
      "bad marshal data (unknown type code)\n",
      "bad marshal data (unknown type code)\n",
      "bad marshal data (unknown type code)\n",
      "bad marshal data (unknown type code)\n",
      "bad marshal data (unknown type code)\n",
      "bad marshal data (unknown type code)\n",
      "bad marshal data (unknown type code)\n",
      "bad marshal data (unknown type code)\n",
      "bad marshal data (unknown type code)\n",
      "bad marshal data (unknown type code)\n",
      "bad marshal data (unknown type code)\n",
      "bad marshal data (unknown type code)\n",
      "bad marshal data (unknown type code)\n",
      "bad marshal data (unknown type code)\n",
      "bad marshal data (unknown type code)\n",
      "bad marshal data (unknown type code)\n",
      "bad marshal data (unknown type code)\n",
      "bad marshal data (unknown type code)\n",
      "bad marshal data (unknown type code)\n",
      "bad marshal data (unknown type code)\n",
      "bad marshal data (unknown type code)\n",
      "bad marshal data (unknown type code)\n",
      "bad marshal data (unknown type code)\n",
      "bad marshal data (unknown type code)\n",
      "bad marshal data (unknown type code)\n",
      "bad marshal data (unknown type code)\n",
      "bad marshal data (unknown type code)\n",
      "bad marshal data (unknown type code)\n",
      "bad marshal data (unknown type code)\n",
      "bad marshal data (unknown type code)\n",
      "bad marshal data (unknown type code)\n",
      "bad marshal data (unknown type code)\n",
      "bad marshal data (unknown type code)\n",
      "bad marshal data (unknown type code)\n",
      "bad marshal data (unknown type code)\n",
      "bad marshal data (unknown type code)\n",
      "bad marshal data (unknown type code)\n",
      "bad marshal data (unknown type code)\n",
      "bad marshal data (unknown type code)\n",
      "bad marshal data (unknown type code)\n",
      "bad marshal data (unknown type code)\n",
      "bad marshal data (unknown type code)\n",
      "bad marshal data (unknown type code)\n",
      "bad marshal data (unknown type code)\n",
      "bad marshal data (unknown type code)\n",
      "bad marshal data (unknown type code)\n",
      "bad marshal data (unknown type code)\n",
      "bad marshal data (unknown type code)\n",
      "bad marshal data (unknown type code)\n",
      "bad marshal data (unknown type code)\n",
      "bad marshal data (unknown type code)\n",
      "bad marshal data (unknown type code)\n",
      "bad marshal data (unknown type code)\n",
      "bad marshal data (unknown type code)\n",
      "bad marshal data (unknown type code)\n",
      "bad marshal data (unknown type code)\n",
      "bad marshal data (unknown type code)\n",
      "bad marshal data (unknown type code)\n",
      "bad marshal data (unknown type code)\n",
      "bad marshal data (unknown type code)\n",
      "bad marshal data (unknown type code)\n",
      "bad marshal data (unknown type code)\n",
      "bad marshal data (unknown type code)\n",
      "bad marshal data (unknown type code)\n",
      "bad marshal data (unknown type code)\n",
      "bad marshal data (unknown type code)\n",
      "bad marshal data (unknown type code)\n",
      "bad marshal data (unknown type code)\n",
      "bad marshal data (unknown type code)\n",
      "bad marshal data (unknown type code)\n",
      "bad marshal data (unknown type code)\n",
      "bad marshal data (unknown type code)\n",
      "bad marshal data (unknown type code)\n",
      "bad marshal data (unknown type code)\n",
      "bad marshal data (unknown type code)\n",
      "bad marshal data (unknown type code)\n",
      "bad marshal data (unknown type code)\n",
      "bad marshal data (unknown type code)\n",
      "bad marshal data (unknown type code)\n",
      "bad marshal data (unknown type code)\n",
      "bad marshal data (unknown type code)\n",
      "bad marshal data (unknown type code)\n",
      "bad marshal data (unknown type code)\n",
      "bad marshal data (unknown type code)\n",
      "bad marshal data (unknown type code)\n",
      "bad marshal data (unknown type code)\n",
      "bad marshal data (unknown type code)\n",
      "bad marshal data (unknown type code)\n",
      "bad marshal data (unknown type code)\n",
      "bad marshal data (unknown type code)\n",
      "bad marshal data (unknown type code)\n",
      "bad marshal data (unknown type code)\n",
      "bad marshal data (unknown type code)\n",
      "bad marshal data (unknown type code)\n",
      "bad marshal data (unknown type code)\n",
      "bad marshal data (unknown type code)\n",
      "bad marshal data (unknown type code)\n",
      "bad marshal data (unknown type code)\n",
      "bad marshal data (unknown type code)\n",
      "bad marshal data (unknown type code)\n",
      "bad marshal data (unknown type code)\n",
      "bad marshal data (unknown type code)\n",
      "bad marshal data (unknown type code)\n",
      "bad marshal data (unknown type code)\n",
      "bad marshal data (unknown type code)\n",
      "bad marshal data (unknown type code)\n",
      "bad marshal data (unknown type code)\n",
      "bad marshal data (unknown type code)\n",
      "bad marshal data (unknown type code)\n",
      "bad marshal data (unknown type code)\n",
      "bad marshal data (unknown type code)\n",
      "bad marshal data (unknown type code)\n",
      "bad marshal data (unknown type code)\n",
      "bad marshal data (unknown type code)\n",
      "bad marshal data (unknown type code)\n",
      "bad marshal data (unknown type code)\n",
      "bad marshal data (unknown type code)\n",
      "bad marshal data (unknown type code)\n",
      "bad marshal data (unknown type code)\n",
      "bad marshal data (unknown type code)\n",
      "bad marshal data (unknown type code)\n",
      "bad marshal data (unknown type code)\n",
      "bad marshal data (unknown type code)\n",
      "bad marshal data (unknown type code)\n",
      "bad marshal data (unknown type code)\n",
      "bad marshal data (unknown type code)\n",
      "bad marshal data (unknown type code)\n",
      "bad marshal data (unknown type code)\n",
      "bad marshal data (unknown type code)\n",
      "bad marshal data (unknown type code)\n",
      "bad marshal data (unknown type code)\n",
      "bad marshal data (unknown type code)\n",
      "bad marshal data (unknown type code)\n",
      "bad marshal data (unknown type code)\n",
      "bad marshal data (unknown type code)\n",
      "bad marshal data (unknown type code)\n",
      "bad marshal data (unknown type code)\n",
      "bad marshal data (unknown type code)\n",
      "bad marshal data (unknown type code)\n",
      "bad marshal data (unknown type code)\n",
      "bad marshal data (unknown type code)\n",
      "bad marshal data (unknown type code)\n",
      "bad marshal data (unknown type code)\n",
      "bad marshal data (unknown type code)\n",
      "bad marshal data (unknown type code)\n",
      "bad marshal data (unknown type code)\n",
      "bad marshal data (unknown type code)\n",
      "bad marshal data (unknown type code)\n",
      "bad marshal data (unknown type code)\n",
      "bad marshal data (unknown type code)\n",
      "bad marshal data (unknown type code)\n",
      "bad marshal data (unknown type code)\n",
      "bad marshal data (unknown type code)\n",
      "bad marshal data (unknown type code)\n",
      "bad marshal data (unknown type code)\n",
      "bad marshal data (unknown type code)\n",
      "bad marshal data (unknown type code)\n",
      "bad marshal data (unknown type code)\n",
      "bad marshal data (unknown type code)\n",
      "bad marshal data (unknown type code)\n",
      "bad marshal data (unknown type code)\n",
      "bad marshal data (unknown type code)\n",
      "bad marshal data (unknown type code)\n",
      "bad marshal data (unknown type code)\n",
      "bad marshal data (unknown type code)\n",
      "bad marshal data (unknown type code)\n",
      "bad marshal data (unknown type code)\n",
      "bad marshal data (unknown type code)\n",
      "bad marshal data (unknown type code)\n",
      "bad marshal data (unknown type code)\n",
      "bad marshal data (unknown type code)\n",
      "bad marshal data (unknown type code)\n",
      "bad marshal data (unknown type code)\n",
      "bad marshal data (unknown type code)\n",
      "bad marshal data (unknown type code)\n",
      "bad marshal data (unknown type code)\n",
      "bad marshal data (unknown type code)\n",
      "bad marshal data (unknown type code)\n",
      "bad marshal data (unknown type code)\n",
      "bad marshal data (unknown type code)\n",
      "bad marshal data (unknown type code)\n",
      "bad marshal data (unknown type code)\n",
      "bad marshal data (unknown type code)\n",
      "bad marshal data (unknown type code)\n",
      "bad marshal data (unknown type code)\n",
      "bad marshal data (unknown type code)\n",
      "bad marshal data (unknown type code)\n",
      "bad marshal data (unknown type code)\n",
      "bad marshal data (unknown type code)\n",
      "bad marshal data (unknown type code)\n",
      "bad marshal data (unknown type code)\n",
      "bad marshal data (unknown type code)\n",
      "bad marshal data (unknown type code)\n",
      "bad marshal data (unknown type code)\n",
      "bad marshal data (unknown type code)\n",
      "bad marshal data (unknown type code)\n",
      "bad marshal data (unknown type code)\n",
      "bad marshal data (unknown type code)\n",
      "bad marshal data (unknown type code)\n",
      "bad marshal data (unknown type code)\n",
      "bad marshal data (unknown type code)\n",
      "bad marshal data (unknown type code)\n",
      "bad marshal data (unknown type code)\n",
      "bad marshal data (unknown type code)\n",
      "bad marshal data (unknown type code)\n",
      "bad marshal data (unknown type code)\n",
      "bad marshal data (unknown type code)\n",
      "bad marshal data (unknown type code)\n",
      "bad marshal data (unknown type code)\n",
      "bad marshal data (unknown type code)\n",
      "bad marshal data (unknown type code)\n",
      "bad marshal data (unknown type code)\n",
      "bad marshal data (unknown type code)\n",
      "bad marshal data (unknown type code)\n",
      "bad marshal data (unknown type code)\n",
      "bad marshal data (unknown type code)\n",
      "bad marshal data (unknown type code)\n",
      "bad marshal data (unknown type code)\n",
      "bad marshal data (unknown type code)\n",
      "bad marshal data (unknown type code)\n",
      "bad marshal data (unknown type code)\n",
      "bad marshal data (unknown type code)\n",
      "bad marshal data (unknown type code)\n",
      "bad marshal data (unknown type code)\n",
      "bad marshal data (unknown type code)\n",
      "bad marshal data (unknown type code)\n",
      "bad marshal data (unknown type code)\n",
      "bad marshal data (unknown type code)\n",
      "bad marshal data (unknown type code)\n",
      "bad marshal data (unknown type code)\n",
      "bad marshal data (unknown type code)\n",
      "bad marshal data (unknown type code)\n",
      "bad marshal data (unknown type code)\n",
      "bad marshal data (unknown type code)\n",
      "bad marshal data (unknown type code)\n",
      "bad marshal data (unknown type code)\n",
      "bad marshal data (unknown type code)\n",
      "bad marshal data (unknown type code)\n",
      "bad marshal data (unknown type code)\n",
      "bad marshal data (unknown type code)\n",
      "bad marshal data (unknown type code)\n",
      "bad marshal data (unknown type code)\n",
      "bad marshal data (unknown type code)\n",
      "bad marshal data (unknown type code)\n",
      "bad marshal data (unknown type code)\n",
      "bad marshal data (unknown type code)\n",
      "bad marshal data (unknown type code)\n",
      "bad marshal data (unknown type code)\n",
      "bad marshal data (unknown type code)\n",
      "bad marshal data (unknown type code)\n",
      "bad marshal data (unknown type code)\n",
      "bad marshal data (unknown type code)\n",
      "bad marshal data (unknown type code)\n",
      "bad marshal data (unknown type code)\n",
      "bad marshal data (unknown type code)\n",
      "bad marshal data (unknown type code)\n",
      "bad marshal data (unknown type code)\n",
      "bad marshal data (unknown type code)\n",
      "bad marshal data (unknown type code)\n",
      "bad marshal data (unknown type code)\n",
      "bad marshal data (unknown type code)\n",
      "bad marshal data (unknown type code)\n",
      "bad marshal data (unknown type code)\n",
      "bad marshal data (unknown type code)\n",
      "bad marshal data (unknown type code)\n",
      "bad marshal data (unknown type code)\n",
      "bad marshal data (unknown type code)\n",
      "bad marshal data (unknown type code)\n",
      "bad marshal data (unknown type code)\n",
      "bad marshal data (unknown type code)\n",
      "bad marshal data (unknown type code)\n",
      "bad marshal data (unknown type code)\n",
      "bad marshal data (unknown type code)\n",
      "bad marshal data (unknown type code)\n",
      "bad marshal data (unknown type code)\n",
      "bad marshal data (unknown type code)\n",
      "bad marshal data (unknown type code)\n",
      "bad marshal data (unknown type code)\n",
      "bad marshal data (unknown type code)\n",
      "bad marshal data (unknown type code)\n",
      "bad marshal data (unknown type code)\n",
      "bad marshal data (unknown type code)\n",
      "bad marshal data (unknown type code)\n",
      "bad marshal data (unknown type code)\n",
      "bad marshal data (unknown type code)\n",
      "bad marshal data (unknown type code)\n",
      "bad marshal data (unknown type code)\n",
      "bad marshal data (unknown type code)\n",
      "bad marshal data (unknown type code)\n",
      "bad marshal data (unknown type code)\n",
      "bad marshal data (unknown type code)\n",
      "bad marshal data (unknown type code)\n",
      "bad marshal data (unknown type code)\n",
      "bad marshal data (unknown type code)\n",
      "bad marshal data (unknown type code)\n",
      "bad marshal data (unknown type code)\n",
      "bad marshal data (unknown type code)\n",
      "bad marshal data (unknown type code)\n",
      "bad marshal data (unknown type code)\n",
      "bad marshal data (unknown type code)\n",
      "bad marshal data (unknown type code)\n",
      "bad marshal data (unknown type code)\n",
      "bad marshal data (unknown type code)\n",
      "bad marshal data (unknown type code)\n"
     ]
    }
   ],
   "source": [
    "for i, l in enumerate(cut_lines):\n",
    "    for i2, l2 in enumerate(cut_lines):\n",
    "        try:\n",
    "            assert len(l) == 20\n",
    "            assert len(l2) == 20\n",
    "            module2 = module[:15 * 20 - 4] + l + module[15 * 20 + 16:35 * 20 - 4] + l2 + module[35 * 20 + 16:]\n",
    "            marshal.loads(module2[8:])\n",
    "        except ValueError as e:\n",
    "            print(e)\n",
    "        else:\n",
    "            print(i, i2)"
   ]
  },
  {
   "cell_type": "code",
   "execution_count": null,
   "metadata": {
    "collapsed": true
   },
   "outputs": [],
   "source": []
  }
 ],
 "metadata": {
  "kernelspec": {
   "display_name": "Python 3",
   "language": "python",
   "name": "python3"
  },
  "language_info": {
   "codemirror_mode": {
    "name": "ipython",
    "version": 3
   },
   "file_extension": ".py",
   "mimetype": "text/x-python",
   "name": "python",
   "nbconvert_exporter": "python",
   "pygments_lexer": "ipython3",
   "version": "3.5.2"
  }
 },
 "nbformat": 4,
 "nbformat_minor": 1
}
