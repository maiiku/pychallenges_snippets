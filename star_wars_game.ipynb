{
 "cells": [
  {
   "cell_type": "code",
   "execution_count": 75,
   "metadata": {},
   "outputs": [
    {
     "ename": "SyntaxError",
     "evalue": "Missing parentheses in call to 'print' (<ipython-input-75-fd16a2c4b625>, line 65)",
     "output_type": "error",
     "traceback": [
      "\u001b[0;36m  File \u001b[0;32m\"<ipython-input-75-fd16a2c4b625>\"\u001b[0;36m, line \u001b[0;32m65\u001b[0m\n\u001b[0;31m    print score_pixels[x][y]\u001b[0m\n\u001b[0m                     ^\u001b[0m\n\u001b[0;31mSyntaxError\u001b[0m\u001b[0;31m:\u001b[0m Missing parentheses in call to 'print'\n"
     ]
    }
   ],
   "source": [
    "import requests, time\n",
    "from scrapy.selector import Selector\n",
    "import requests, time, StringIO, operator\n",
    "from PIL import Image\n",
    "\n",
    "url = 'http://www.python-challenges.com/psb/UWK77TDD/star_wars'\n",
    "xpath = '/html/body/div[2]/div/div[2]/form/input/@value'\n",
    "xpath_post = '/html/body/div/div/div/form/input/@value'\n",
    "timeout = 60*5+1\n",
    "board_max = 99\n",
    "\n",
    "def getxy(x, y, initial_x, initial_y):\n",
    "    xdiff = x-initial_x\n",
    "    ydiff = y-initial_y\n",
    "    if xdiff == ydiff:\n",
    "        x += 2\n",
    "        y += 4\n",
    "    elif xdiff+2 == ydiff:\n",
    "        x += 2\n",
    "        y -=2\n",
    "    elif xdiff-2 == ydiff:\n",
    "        x -= 2\n",
    "    return x,y\n",
    "\n",
    "\n",
    "def next_move():\n",
    "    our_colors = [94, 11]\n",
    "    last_move = None\n",
    "    src = '/Users/mko_san/Downloads/score.png'\n",
    "    url = 'http://www.python-challenges.com/psb/static/img/star_wars/star_wars.png'\n",
    "    r = requests.get(url)\n",
    "    im = Image.open(StringIO.StringIO(r.content))\n",
    "    score = Image.open(src)\n",
    "\n",
    "    colors ={}\n",
    "\n",
    "    for pixel in im.getdata():\n",
    "        if pixel and pixel not in our_colors:\n",
    "            color_key = pixel\n",
    "            if color_key  not in colors:\n",
    "                colors[color_key] = 0\n",
    "            colors[color_key] += 1\n",
    "\n",
    "    sorted_colors = sorted(colors.items(), key=operator.itemgetter(1))\n",
    "    sorted_colors.reverse()\n",
    "    color_best = sorted_colors[0][0]\n",
    "\n",
    "    pixels = score.load() # this is not a list, nor is it list()'able\n",
    "    width, height = score.size\n",
    "    score_pixels = []\n",
    "    for x in range(height):\n",
    "        pixel_row = []\n",
    "        for y in range(100):\n",
    "            cpixel = pixels[x, y]\n",
    "            pixel_row.append(cpixel)\n",
    "        score_pixels.append(pixel_row)\n",
    "\n",
    "    pixels = im.load() # this is not a list, nor is it list()'able\n",
    "    width, height = im.size\n",
    "    for x in range(height):\n",
    "        pixel_row = []\n",
    "        for y in range(100):\n",
    "            cpixel = pixels[x, y]\n",
    "            if cpixel == color_best and cpixel!=score_pixels[x][y]:\n",
    "                print score_pixels[x][y]\n",
    "                last_move = (x,y)\n",
    "                break\n",
    "                \n",
    "    if not last_move:\n",
    "        color_best = sorted_colors[1][0]\n",
    "        for x in range(height):\n",
    "            pixel_row = []\n",
    "            for y in range(100):\n",
    "                cpixel = pixels[x, y]\n",
    "                if cpixel == color_best and cpixel!=score_pixels[x][y]:\n",
    "                    print score_pixels[x][y]\n",
    "                    last_move = (x,y)\n",
    "                    break        \n",
    "        \n",
    "    if not last_move:\n",
    "        return None\n",
    "    im.save(src)\n",
    "    return last_move\n",
    "print next_move()\n",
    "\n",
    "def paint(initial_x=None, initial_y=None, token=None, cookie=None):\n",
    "    x, y = next_move()\n",
    "    csfr = token\n",
    "    cookie = {'csrftoken': cookie}\n",
    "    if not csrf:\n",
    "        r = requests.get(url)\n",
    "        cookie = {'csrftoken': r.cookies['csrftoken']}\n",
    "        csfr = Selector(text=r.content.decode()).xpath(xpath).extract().pop()\n",
    "        time.sleep(timeout)\n",
    "    data = {\n",
    "        'xxx': initial_x,\n",
    "        'yyy': initial_y,\n",
    "        'csrfmiddlewaretoken': csfr,\n",
    "    }\n",
    "    while True:\n",
    "        print (data)\n",
    "        r = requests.post(url, data=data, cookies=cookie)\n",
    "        cookie['csrftoken'] = r.cookies['csrftoken']\n",
    "        csfr = Selector(text=r.content.decode()).xpath(xpath_post).extract().pop()\n",
    "        print (cookie)\n",
    "        x, y = next_move()\n",
    "        data = {\n",
    "            'xxx': x,\n",
    "            'yyy': y,\n",
    "            'csrfmiddlewaretoken': csfr,\n",
    "        }\n",
    "\n",
    "        time.sleep(timeout)\n",
    "paint(80, 80, '6IfswJGfOOTIg8OHwhcSPDKGnbaCEheBrQyMsA1iFMmpYAtEsMJQueiNTKqYSN6m','6Wi9AQ1PeeImqlBYquzAF8sqxlS3Ba50r4BtwHmS5cb38NgVmZ6ykJ0x3U8pPGXL', )"
   ]
  },
  {
   "cell_type": "code",
   "execution_count": 57,
   "metadata": {
    "collapsed": true
   },
   "outputs": [],
   "source": [
    "import requests, time\n",
    "from scrapy.selector import Selector\n",
    "url = 'http://www.python-challenges.com/psb/YZKCX2D6/star_wars'\n",
    "xpath = '/html/body/div[2]/div/div[2]/form/input/@value'\n",
    "cookie = {'csrftoken': 'eyjmuoOYnLZJ8aYp3fiaKTLACYJJY0jLIjbgRWoNjyUjJ1CxWkqXeeI6F3Aww0Tz'}\n",
    "r = requests.get(url)\n",
    "csrf = Selector(text=r.content.decode()).xpath(xpath).extract().pop()\n",
    "cookie['csrftoken'] = r.cookies['csrftoken']\n",
    "data = {\n",
    "    'x': 0,\n",
    "    'y': 0,\n",
    "    'csrfmiddlewaretoken': csrf,\n",
    "}\n",
    "r = requests.post(url, data=data, cookies=cookie)"
   ]
  },
  {
   "cell_type": "code",
   "execution_count": 60,
   "metadata": {},
   "outputs": [
    {
     "data": {
      "text/plain": [
       "'ivM2omOWN5zDoReCFRruW2RHz8m3OvotYrriU078Jc6kINpJIul6A4UdTYfo3PvL'"
      ]
     },
     "execution_count": 60,
     "metadata": {},
     "output_type": "execute_result"
    }
   ],
   "source": [
    "xpath = '/html/body/div/div/div/form/input/@value'\n",
    "Selector(text=r.content.decode()).xpath(xpath).extract().pop()\n"
   ]
  },
  {
   "cell_type": "code",
   "execution_count": null,
   "metadata": {
    "collapsed": true
   },
   "outputs": [],
   "source": [
    "65, 23\n",
    "\n",
    "def getxy(x, y, initial_x, initial_y):\n",
    "    if x == y:\n",
    "        x += 2\n",
    "        y += 4\n",
    "    elif x+2 == y:\n",
    "        x += 2\n",
    "        y -=2\n",
    "    elif x-2 == y:\n",
    "        x -= 2\n",
    "    return x,y\n",
    "x, y = getxy(2, 4)\n",
    "print (x,y)\n",
    "x, y = getxy(x, y)\n",
    "print (x,y)\n",
    "x, y = getxy(x, y)\n",
    "print (x,y)\n",
    "x, y = getxy(x, y)\n",
    "print (x,y)\n",
    "x, y = getxy(x, y)\n",
    "print (x,y)\n",
    "x, y = getxy(x, y)\n",
    "print (x,y)"
   ]
  },
  {
   "cell_type": "code",
   "execution_count": null,
   "metadata": {
    "collapsed": true
   },
   "outputs": [],
   "source": [
    "65, 23\n"
   ]
  }
 ],
 "metadata": {
  "kernelspec": {
   "display_name": "Python 3",
   "language": "python",
   "name": "python3"
  },
  "language_info": {
   "codemirror_mode": {
    "name": "ipython",
    "version": 2
   },
   "file_extension": ".py",
   "mimetype": "text/x-python",
   "name": "python",
   "nbconvert_exporter": "python",
   "pygments_lexer": "ipython2",
   "version": "2.7.13"
  }
 },
 "nbformat": 4,
 "nbformat_minor": 2
}
