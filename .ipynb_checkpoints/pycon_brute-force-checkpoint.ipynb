{
 "cells": [
  {
   "cell_type": "code",
   "execution_count": 6,
   "metadata": {
    "collapsed": false
   },
   "outputs": [],
   "source": [
    "import requests\n",
    "from itertools import combinations_with_replacement\n",
    "import string\n",
    "symbols = list(string.ascii_uppercase)+list(string.digits)\n",
    "base_url = 'http://139.59.208.213/{}/pelennor/'\n"
   ]
  },
  {
   "cell_type": "code",
   "execution_count": 12,
   "metadata": {
    "collapsed": false
   },
   "outputs": [
    {
     "name": "stdout",
     "output_type": "stream",
     "text": [
      "A HIT!! http://139.59.208.213/AAAAEV59/pelennor/\n",
      "A HIT!! http://139.59.208.213/AAAAEV66/pelennor/\n",
      "A HIT!! http://139.59.208.213/AAAAEV67/pelennor/\n",
      "A HIT!! http://139.59.208.213/AAAAEV68/pelennor/\n",
      "A HIT!! http://139.59.208.213/AAAAEV69/pelennor/\n",
      "A HIT!! http://139.59.208.213/AAAAEV77/pelennor/\n",
      "A HIT!! http://139.59.208.213/AAAAEV78/pelennor/\n",
      "A HIT!! http://139.59.208.213/AAAAEV79/pelennor/\n",
      "A HIT!! http://139.59.208.213/AAAAEV88/pelennor/\n",
      "A HIT!! http://139.59.208.213/AAAAEV89/pelennor/\n",
      "A HIT!! http://139.59.208.213/AAAAEV99/pelennor/\n",
      "A HIT!! http://139.59.208.213/AAAAEWWW/pelennor/\n",
      "A HIT!! http://139.59.208.213/AAAAEWWX/pelennor/\n",
      "A HIT!! http://139.59.208.213/AAAAEWWY/pelennor/\n",
      "A HIT!! http://139.59.208.213/AAAAEWWZ/pelennor/\n",
      "A HIT!! http://139.59.208.213/AAAAEWW0/pelennor/\n",
      "A HIT!! http://139.59.208.213/AAAAEWW1/pelennor/\n",
      "A HIT!! http://139.59.208.213/AAAAEWW2/pelennor/\n",
      "A HIT!! http://139.59.208.213/AAAAEWW3/pelennor/\n",
      "A HIT!! http://139.59.208.213/AAAAEWW4/pelennor/\n",
      "A HIT!! http://139.59.208.213/AAAAEWW5/pelennor/\n",
      "A HIT!! http://139.59.208.213/AAAAEWW6/pelennor/\n",
      "A HIT!! http://139.59.208.213/AAAAEWW7/pelennor/\n",
      "A HIT!! http://139.59.208.213/AAAAEWW8/pelennor/\n",
      "A HIT!! http://139.59.208.213/AAAAEWW9/pelennor/\n",
      "A HIT!! http://139.59.208.213/AAAAEWXX/pelennor/\n",
      "A HIT!! http://139.59.208.213/AAAAEWXY/pelennor/\n",
      "A HIT!! http://139.59.208.213/AAAAEWXZ/pelennor/\n",
      "A HIT!! http://139.59.208.213/AAAAEWX0/pelennor/\n",
      "A HIT!! http://139.59.208.213/AAAAEWX1/pelennor/\n",
      "A HIT!! http://139.59.208.213/AAAAEWX2/pelennor/\n",
      "A HIT!! http://139.59.208.213/AAAAEWX3/pelennor/\n",
      "A HIT!! http://139.59.208.213/AAAAEWX4/pelennor/\n",
      "A HIT!! http://139.59.208.213/AAAAEWX5/pelennor/\n",
      "A HIT!! http://139.59.208.213/AAAAEWX6/pelennor/\n",
      "A HIT!! http://139.59.208.213/AAAAEWX7/pelennor/\n",
      "A HIT!! http://139.59.208.213/AAAAEWX8/pelennor/\n",
      "A HIT!! http://139.59.208.213/AAAAEWX9/pelennor/\n",
      "A HIT!! http://139.59.208.213/AAAAEWYY/pelennor/\n",
      "A HIT!! http://139.59.208.213/AAAAEWYZ/pelennor/\n",
      "A HIT!! http://139.59.208.213/AAAAEWY0/pelennor/\n",
      "A HIT!! http://139.59.208.213/AAAAEWY1/pelennor/\n",
      "A HIT!! http://139.59.208.213/AAAAEWY2/pelennor/\n",
      "A HIT!! http://139.59.208.213/AAAAEWY3/pelennor/\n",
      "A HIT!! http://139.59.208.213/AAAAEWY4/pelennor/\n",
      "A HIT!! http://139.59.208.213/AAAAEWY5/pelennor/\n",
      "A HIT!! http://139.59.208.213/AAAAEWY6/pelennor/\n",
      "A HIT!! http://139.59.208.213/AAAAEWY7/pelennor/\n",
      "A HIT!! http://139.59.208.213/AAAAEWY8/pelennor/\n",
      "A HIT!! http://139.59.208.213/AAAAEWY9/pelennor/\n",
      "A HIT!! http://139.59.208.213/AAAAEWZZ/pelennor/\n",
      "A HIT!! http://139.59.208.213/AAAAEWZ0/pelennor/\n",
      "A HIT!! http://139.59.208.213/AAAAEWZ1/pelennor/\n",
      "A HIT!! http://139.59.208.213/AAAAEWZ2/pelennor/\n",
      "A HIT!! http://139.59.208.213/AAAAEWZ3/pelennor/\n",
      "A HIT!! http://139.59.208.213/AAAAEWZ4/pelennor/\n",
      "A HIT!! http://139.59.208.213/AAAAEWZ5/pelennor/\n",
      "A HIT!! http://139.59.208.213/AAAAEWZ6/pelennor/\n",
      "A HIT!! http://139.59.208.213/AAAAEWZ7/pelennor/\n",
      "A HIT!! http://139.59.208.213/AAAAEWZ8/pelennor/\n",
      "A HIT!! http://139.59.208.213/AAAAEWZ9/pelennor/\n",
      "A HIT!! http://139.59.208.213/AAAAEW00/pelennor/\n",
      "A HIT!! http://139.59.208.213/AAAAEW01/pelennor/\n",
      "A HIT!! http://139.59.208.213/AAAAEW02/pelennor/\n",
      "A HIT!! http://139.59.208.213/AAAAEW03/pelennor/\n",
      "A HIT!! http://139.59.208.213/AAAAEW04/pelennor/\n",
      "A HIT!! http://139.59.208.213/AAAAEW05/pelennor/\n",
      "A HIT!! http://139.59.208.213/AAAAEW06/pelennor/\n",
      "A HIT!! http://139.59.208.213/AAAAEW07/pelennor/\n",
      "A HIT!! http://139.59.208.213/AAAAEW08/pelennor/\n",
      "A HIT!! http://139.59.208.213/AAAAEW09/pelennor/\n",
      "A HIT!! http://139.59.208.213/AAAAEW11/pelennor/\n",
      "A HIT!! http://139.59.208.213/AAAAEW12/pelennor/\n",
      "A HIT!! http://139.59.208.213/AAAAEW13/pelennor/\n",
      "A HIT!! http://139.59.208.213/AAAAEW14/pelennor/\n",
      "A HIT!! http://139.59.208.213/AAAAEW15/pelennor/\n",
      "A HIT!! http://139.59.208.213/AAAAEW16/pelennor/\n",
      "A HIT!! http://139.59.208.213/AAAAEW17/pelennor/\n",
      "A HIT!! http://139.59.208.213/AAAAEW18/pelennor/\n",
      "A HIT!! http://139.59.208.213/AAAAEW19/pelennor/\n",
      "A HIT!! http://139.59.208.213/AAAAEW22/pelennor/\n",
      "A HIT!! http://139.59.208.213/AAAAEW23/pelennor/\n",
      "A HIT!! http://139.59.208.213/AAAAEW24/pelennor/\n",
      "A HIT!! http://139.59.208.213/AAAAEW25/pelennor/\n",
      "A HIT!! http://139.59.208.213/AAAAEW26/pelennor/\n",
      "A HIT!! http://139.59.208.213/AAAAEW27/pelennor/\n",
      "A HIT!! http://139.59.208.213/AAAAEW28/pelennor/\n",
      "A HIT!! http://139.59.208.213/AAAAEW29/pelennor/\n",
      "A HIT!! http://139.59.208.213/AAAAEW33/pelennor/\n",
      "A HIT!! http://139.59.208.213/AAAAEW34/pelennor/\n",
      "A HIT!! http://139.59.208.213/AAAAEW35/pelennor/\n",
      "A HIT!! http://139.59.208.213/AAAAEW36/pelennor/\n",
      "A HIT!! http://139.59.208.213/AAAAEW37/pelennor/\n",
      "A HIT!! http://139.59.208.213/AAAAEW38/pelennor/\n",
      "A HIT!! http://139.59.208.213/AAAAEW39/pelennor/\n",
      "A HIT!! http://139.59.208.213/AAAAEW44/pelennor/\n",
      "A HIT!! http://139.59.208.213/AAAAEW45/pelennor/\n",
      "A HIT!! http://139.59.208.213/AAAAEW46/pelennor/\n",
      "A HIT!! http://139.59.208.213/AAAAEW47/pelennor/\n",
      "A HIT!! http://139.59.208.213/AAAAEW48/pelennor/\n",
      "A HIT!! http://139.59.208.213/AAAAEW49/pelennor/\n",
      "A HIT!! http://139.59.208.213/AAAAEW55/pelennor/\n",
      "A HIT!! http://139.59.208.213/AAAAEW56/pelennor/\n",
      "A HIT!! http://139.59.208.213/AAAAEW57/pelennor/\n",
      "A HIT!! http://139.59.208.213/AAAAEW58/pelennor/\n",
      "A HIT!! http://139.59.208.213/AAAAEW59/pelennor/\n",
      "A HIT!! http://139.59.208.213/AAAAEW66/pelennor/\n",
      "A HIT!! http://139.59.208.213/AAAAEW67/pelennor/\n",
      "A HIT!! http://139.59.208.213/AAAAEW68/pelennor/\n",
      "A HIT!! http://139.59.208.213/AAAAEW69/pelennor/\n",
      "A HIT!! http://139.59.208.213/AAAAEW77/pelennor/\n",
      "A HIT!! http://139.59.208.213/AAAAEW78/pelennor/\n",
      "A HIT!! http://139.59.208.213/AAAAEW79/pelennor/\n",
      "A HIT!! http://139.59.208.213/AAAAEW88/pelennor/\n",
      "A HIT!! http://139.59.208.213/AAAAEW89/pelennor/\n",
      "A HIT!! http://139.59.208.213/AAAAEW99/pelennor/\n",
      "A HIT!! http://139.59.208.213/AAAAEXXX/pelennor/\n",
      "A HIT!! http://139.59.208.213/AAAAEXXY/pelennor/\n",
      "A HIT!! http://139.59.208.213/AAAAEXXZ/pelennor/\n",
      "A HIT!! http://139.59.208.213/AAAAEXX0/pelennor/\n",
      "A HIT!! http://139.59.208.213/AAAAEXX1/pelennor/\n",
      "A HIT!! http://139.59.208.213/AAAAEXX2/pelennor/\n",
      "A HIT!! http://139.59.208.213/AAAAEXX3/pelennor/\n",
      "A HIT!! http://139.59.208.213/AAAAEXX4/pelennor/\n",
      "A HIT!! http://139.59.208.213/AAAAEXX5/pelennor/\n",
      "A HIT!! http://139.59.208.213/AAAAEXX6/pelennor/\n",
      "A HIT!! http://139.59.208.213/AAAAEXX7/pelennor/\n",
      "A HIT!! http://139.59.208.213/AAAAEXX8/pelennor/\n",
      "A HIT!! http://139.59.208.213/AAAAEXX9/pelennor/\n",
      "A HIT!! http://139.59.208.213/AAAAEXYY/pelennor/\n",
      "A HIT!! http://139.59.208.213/AAAAEXYZ/pelennor/\n",
      "A HIT!! http://139.59.208.213/AAAAEXY0/pelennor/\n",
      "A HIT!! http://139.59.208.213/AAAAEXY1/pelennor/\n",
      "A HIT!! http://139.59.208.213/AAAAEXY2/pelennor/\n",
      "A HIT!! http://139.59.208.213/AAAAEXY3/pelennor/\n",
      "A HIT!! http://139.59.208.213/AAAAEXY4/pelennor/\n",
      "A HIT!! http://139.59.208.213/AAAAEXY5/pelennor/\n",
      "A HIT!! http://139.59.208.213/AAAAEXY6/pelennor/\n",
      "A HIT!! http://139.59.208.213/AAAAEXY7/pelennor/\n",
      "A HIT!! http://139.59.208.213/AAAAEXY8/pelennor/\n",
      "A HIT!! http://139.59.208.213/AAAAEXY9/pelennor/\n",
      "A HIT!! http://139.59.208.213/AAAAEXZZ/pelennor/\n",
      "A HIT!! http://139.59.208.213/AAAAEXZ0/pelennor/\n",
      "A HIT!! http://139.59.208.213/AAAAEXZ1/pelennor/\n",
      "A HIT!! http://139.59.208.213/AAAAEXZ2/pelennor/\n",
      "A HIT!! http://139.59.208.213/AAAAEXZ3/pelennor/\n",
      "A HIT!! http://139.59.208.213/AAAAEXZ4/pelennor/\n",
      "A HIT!! http://139.59.208.213/AAAAEXZ5/pelennor/\n",
      "A HIT!! http://139.59.208.213/AAAAEXZ6/pelennor/\n",
      "A HIT!! http://139.59.208.213/AAAAEXZ7/pelennor/\n",
      "A HIT!! http://139.59.208.213/AAAAEXZ8/pelennor/\n",
      "A HIT!! http://139.59.208.213/AAAAEXZ9/pelennor/\n",
      "A HIT!! http://139.59.208.213/AAAAEX00/pelennor/\n",
      "A HIT!! http://139.59.208.213/AAAAEX01/pelennor/\n",
      "A HIT!! http://139.59.208.213/AAAAEX02/pelennor/\n",
      "A HIT!! http://139.59.208.213/AAAAEX03/pelennor/\n",
      "A HIT!! http://139.59.208.213/AAAAEX04/pelennor/\n",
      "A HIT!! http://139.59.208.213/AAAAEX05/pelennor/\n",
      "A HIT!! http://139.59.208.213/AAAAEX06/pelennor/\n",
      "A HIT!! http://139.59.208.213/AAAAEX07/pelennor/\n",
      "A HIT!! http://139.59.208.213/AAAAEX08/pelennor/\n",
      "A HIT!! http://139.59.208.213/AAAAEX09/pelennor/\n",
      "A HIT!! http://139.59.208.213/AAAAEX11/pelennor/\n",
      "A HIT!! http://139.59.208.213/AAAAEX12/pelennor/\n",
      "A HIT!! http://139.59.208.213/AAAAEX13/pelennor/\n",
      "A HIT!! http://139.59.208.213/AAAAEX14/pelennor/\n",
      "A HIT!! http://139.59.208.213/AAAAEX15/pelennor/\n",
      "A HIT!! http://139.59.208.213/AAAAEX16/pelennor/\n",
      "A HIT!! http://139.59.208.213/AAAAEX17/pelennor/\n",
      "A HIT!! http://139.59.208.213/AAAAEX18/pelennor/\n",
      "A HIT!! http://139.59.208.213/AAAAEX19/pelennor/\n"
     ]
    },
    {
     "ename": "ConnectionError",
     "evalue": "HTTPConnectionPool(host='wen1-speedtest-1.tele2.net', port=80): Max retries exceeded with url: / (Caused by NewConnectionError('<requests.packages.urllib3.connection.HTTPConnection object at 0x106ca6ac8>: Failed to establish a new connection: [Errno 65] No route to host',))",
     "output_type": "error",
     "traceback": [
      "\u001b[0;31m---------------------------------------------------------------------------\u001b[0m",
      "\u001b[0;31mOSError\u001b[0m                                   Traceback (most recent call last)",
      "\u001b[0;32m/Volumes/Work/projects/pycon/lib/python3.5/site-packages/requests/packages/urllib3/connection.py\u001b[0m in \u001b[0;36m_new_conn\u001b[0;34m(self)\u001b[0m\n\u001b[1;32m    141\u001b[0m             conn = connection.create_connection(\n\u001b[0;32m--> 142\u001b[0;31m                 (self.host, self.port), self.timeout, **extra_kw)\n\u001b[0m\u001b[1;32m    143\u001b[0m \u001b[0;34m\u001b[0m\u001b[0m\n",
      "\u001b[0;32m/Volumes/Work/projects/pycon/lib/python3.5/site-packages/requests/packages/urllib3/util/connection.py\u001b[0m in \u001b[0;36mcreate_connection\u001b[0;34m(address, timeout, source_address, socket_options)\u001b[0m\n\u001b[1;32m     97\u001b[0m     \u001b[0;32mif\u001b[0m \u001b[0merr\u001b[0m \u001b[0;32mis\u001b[0m \u001b[0;32mnot\u001b[0m \u001b[0;32mNone\u001b[0m\u001b[0;34m:\u001b[0m\u001b[0;34m\u001b[0m\u001b[0m\n\u001b[0;32m---> 98\u001b[0;31m         \u001b[0;32mraise\u001b[0m \u001b[0merr\u001b[0m\u001b[0;34m\u001b[0m\u001b[0m\n\u001b[0m\u001b[1;32m     99\u001b[0m \u001b[0;34m\u001b[0m\u001b[0m\n",
      "\u001b[0;32m/Volumes/Work/projects/pycon/lib/python3.5/site-packages/requests/packages/urllib3/util/connection.py\u001b[0m in \u001b[0;36mcreate_connection\u001b[0;34m(address, timeout, source_address, socket_options)\u001b[0m\n\u001b[1;32m     87\u001b[0m                 \u001b[0msock\u001b[0m\u001b[0;34m.\u001b[0m\u001b[0mbind\u001b[0m\u001b[0;34m(\u001b[0m\u001b[0msource_address\u001b[0m\u001b[0;34m)\u001b[0m\u001b[0;34m\u001b[0m\u001b[0m\n\u001b[0;32m---> 88\u001b[0;31m             \u001b[0msock\u001b[0m\u001b[0;34m.\u001b[0m\u001b[0mconnect\u001b[0m\u001b[0;34m(\u001b[0m\u001b[0msa\u001b[0m\u001b[0;34m)\u001b[0m\u001b[0;34m\u001b[0m\u001b[0m\n\u001b[0m\u001b[1;32m     89\u001b[0m             \u001b[0;32mreturn\u001b[0m \u001b[0msock\u001b[0m\u001b[0;34m\u001b[0m\u001b[0m\n",
      "\u001b[0;31mOSError\u001b[0m: [Errno 65] No route to host",
      "\nDuring handling of the above exception, another exception occurred:\n",
      "\u001b[0;31mNewConnectionError\u001b[0m                        Traceback (most recent call last)",
      "\u001b[0;32m/Volumes/Work/projects/pycon/lib/python3.5/site-packages/requests/packages/urllib3/connectionpool.py\u001b[0m in \u001b[0;36murlopen\u001b[0;34m(self, method, url, body, headers, retries, redirect, assert_same_host, timeout, pool_timeout, release_conn, chunked, **response_kw)\u001b[0m\n\u001b[1;32m    594\u001b[0m                                                   \u001b[0mbody\u001b[0m\u001b[0;34m=\u001b[0m\u001b[0mbody\u001b[0m\u001b[0;34m,\u001b[0m \u001b[0mheaders\u001b[0m\u001b[0;34m=\u001b[0m\u001b[0mheaders\u001b[0m\u001b[0;34m,\u001b[0m\u001b[0;34m\u001b[0m\u001b[0m\n\u001b[0;32m--> 595\u001b[0;31m                                                   chunked=chunked)\n\u001b[0m\u001b[1;32m    596\u001b[0m \u001b[0;34m\u001b[0m\u001b[0m\n",
      "\u001b[0;32m/Volumes/Work/projects/pycon/lib/python3.5/site-packages/requests/packages/urllib3/connectionpool.py\u001b[0m in \u001b[0;36m_make_request\u001b[0;34m(self, conn, method, url, timeout, chunked, **httplib_request_kw)\u001b[0m\n\u001b[1;32m    362\u001b[0m         \u001b[0;32melse\u001b[0m\u001b[0;34m:\u001b[0m\u001b[0;34m\u001b[0m\u001b[0m\n\u001b[0;32m--> 363\u001b[0;31m             \u001b[0mconn\u001b[0m\u001b[0;34m.\u001b[0m\u001b[0mrequest\u001b[0m\u001b[0;34m(\u001b[0m\u001b[0mmethod\u001b[0m\u001b[0;34m,\u001b[0m \u001b[0murl\u001b[0m\u001b[0;34m,\u001b[0m \u001b[0;34m**\u001b[0m\u001b[0mhttplib_request_kw\u001b[0m\u001b[0;34m)\u001b[0m\u001b[0;34m\u001b[0m\u001b[0m\n\u001b[0m\u001b[1;32m    364\u001b[0m \u001b[0;34m\u001b[0m\u001b[0m\n",
      "\u001b[0;32m/usr/local/Cellar/python3/3.5.2_2/Frameworks/Python.framework/Versions/3.5/lib/python3.5/http/client.py\u001b[0m in \u001b[0;36mrequest\u001b[0;34m(self, method, url, body, headers)\u001b[0m\n\u001b[1;32m   1105\u001b[0m         \u001b[0;34m\"\"\"Send a complete request to the server.\"\"\"\u001b[0m\u001b[0;34m\u001b[0m\u001b[0m\n\u001b[0;32m-> 1106\u001b[0;31m         \u001b[0mself\u001b[0m\u001b[0;34m.\u001b[0m\u001b[0m_send_request\u001b[0m\u001b[0;34m(\u001b[0m\u001b[0mmethod\u001b[0m\u001b[0;34m,\u001b[0m \u001b[0murl\u001b[0m\u001b[0;34m,\u001b[0m \u001b[0mbody\u001b[0m\u001b[0;34m,\u001b[0m \u001b[0mheaders\u001b[0m\u001b[0;34m)\u001b[0m\u001b[0;34m\u001b[0m\u001b[0m\n\u001b[0m\u001b[1;32m   1107\u001b[0m \u001b[0;34m\u001b[0m\u001b[0m\n",
      "\u001b[0;32m/usr/local/Cellar/python3/3.5.2_2/Frameworks/Python.framework/Versions/3.5/lib/python3.5/http/client.py\u001b[0m in \u001b[0;36m_send_request\u001b[0;34m(self, method, url, body, headers)\u001b[0m\n\u001b[1;32m   1150\u001b[0m             \u001b[0mbody\u001b[0m \u001b[0;34m=\u001b[0m \u001b[0m_encode\u001b[0m\u001b[0;34m(\u001b[0m\u001b[0mbody\u001b[0m\u001b[0;34m,\u001b[0m \u001b[0;34m'body'\u001b[0m\u001b[0;34m)\u001b[0m\u001b[0;34m\u001b[0m\u001b[0m\n\u001b[0;32m-> 1151\u001b[0;31m         \u001b[0mself\u001b[0m\u001b[0;34m.\u001b[0m\u001b[0mendheaders\u001b[0m\u001b[0;34m(\u001b[0m\u001b[0mbody\u001b[0m\u001b[0;34m)\u001b[0m\u001b[0;34m\u001b[0m\u001b[0m\n\u001b[0m\u001b[1;32m   1152\u001b[0m \u001b[0;34m\u001b[0m\u001b[0m\n",
      "\u001b[0;32m/usr/local/Cellar/python3/3.5.2_2/Frameworks/Python.framework/Versions/3.5/lib/python3.5/http/client.py\u001b[0m in \u001b[0;36mendheaders\u001b[0;34m(self, message_body)\u001b[0m\n\u001b[1;32m   1101\u001b[0m             \u001b[0;32mraise\u001b[0m \u001b[0mCannotSendHeader\u001b[0m\u001b[0;34m(\u001b[0m\u001b[0;34m)\u001b[0m\u001b[0;34m\u001b[0m\u001b[0m\n\u001b[0;32m-> 1102\u001b[0;31m         \u001b[0mself\u001b[0m\u001b[0;34m.\u001b[0m\u001b[0m_send_output\u001b[0m\u001b[0;34m(\u001b[0m\u001b[0mmessage_body\u001b[0m\u001b[0;34m)\u001b[0m\u001b[0;34m\u001b[0m\u001b[0m\n\u001b[0m\u001b[1;32m   1103\u001b[0m \u001b[0;34m\u001b[0m\u001b[0m\n",
      "\u001b[0;32m/usr/local/Cellar/python3/3.5.2_2/Frameworks/Python.framework/Versions/3.5/lib/python3.5/http/client.py\u001b[0m in \u001b[0;36m_send_output\u001b[0;34m(self, message_body)\u001b[0m\n\u001b[1;32m    933\u001b[0m \u001b[0;34m\u001b[0m\u001b[0m\n\u001b[0;32m--> 934\u001b[0;31m         \u001b[0mself\u001b[0m\u001b[0;34m.\u001b[0m\u001b[0msend\u001b[0m\u001b[0;34m(\u001b[0m\u001b[0mmsg\u001b[0m\u001b[0;34m)\u001b[0m\u001b[0;34m\u001b[0m\u001b[0m\n\u001b[0m\u001b[1;32m    935\u001b[0m         \u001b[0;32mif\u001b[0m \u001b[0mmessage_body\u001b[0m \u001b[0;32mis\u001b[0m \u001b[0;32mnot\u001b[0m \u001b[0;32mNone\u001b[0m\u001b[0;34m:\u001b[0m\u001b[0;34m\u001b[0m\u001b[0m\n",
      "\u001b[0;32m/usr/local/Cellar/python3/3.5.2_2/Frameworks/Python.framework/Versions/3.5/lib/python3.5/http/client.py\u001b[0m in \u001b[0;36msend\u001b[0;34m(self, data)\u001b[0m\n\u001b[1;32m    876\u001b[0m             \u001b[0;32mif\u001b[0m \u001b[0mself\u001b[0m\u001b[0;34m.\u001b[0m\u001b[0mauto_open\u001b[0m\u001b[0;34m:\u001b[0m\u001b[0;34m\u001b[0m\u001b[0m\n\u001b[0;32m--> 877\u001b[0;31m                 \u001b[0mself\u001b[0m\u001b[0;34m.\u001b[0m\u001b[0mconnect\u001b[0m\u001b[0;34m(\u001b[0m\u001b[0;34m)\u001b[0m\u001b[0;34m\u001b[0m\u001b[0m\n\u001b[0m\u001b[1;32m    878\u001b[0m             \u001b[0;32melse\u001b[0m\u001b[0;34m:\u001b[0m\u001b[0;34m\u001b[0m\u001b[0m\n",
      "\u001b[0;32m/Volumes/Work/projects/pycon/lib/python3.5/site-packages/requests/packages/urllib3/connection.py\u001b[0m in \u001b[0;36mconnect\u001b[0;34m(self)\u001b[0m\n\u001b[1;32m    166\u001b[0m     \u001b[0;32mdef\u001b[0m \u001b[0mconnect\u001b[0m\u001b[0;34m(\u001b[0m\u001b[0mself\u001b[0m\u001b[0;34m)\u001b[0m\u001b[0;34m:\u001b[0m\u001b[0;34m\u001b[0m\u001b[0m\n\u001b[0;32m--> 167\u001b[0;31m         \u001b[0mconn\u001b[0m \u001b[0;34m=\u001b[0m \u001b[0mself\u001b[0m\u001b[0;34m.\u001b[0m\u001b[0m_new_conn\u001b[0m\u001b[0;34m(\u001b[0m\u001b[0;34m)\u001b[0m\u001b[0;34m\u001b[0m\u001b[0m\n\u001b[0m\u001b[1;32m    168\u001b[0m         \u001b[0mself\u001b[0m\u001b[0;34m.\u001b[0m\u001b[0m_prepare_conn\u001b[0m\u001b[0;34m(\u001b[0m\u001b[0mconn\u001b[0m\u001b[0;34m)\u001b[0m\u001b[0;34m\u001b[0m\u001b[0m\n",
      "\u001b[0;32m/Volumes/Work/projects/pycon/lib/python3.5/site-packages/requests/packages/urllib3/connection.py\u001b[0m in \u001b[0;36m_new_conn\u001b[0;34m(self)\u001b[0m\n\u001b[1;32m    150\u001b[0m             raise NewConnectionError(\n\u001b[0;32m--> 151\u001b[0;31m                 self, \"Failed to establish a new connection: %s\" % e)\n\u001b[0m\u001b[1;32m    152\u001b[0m \u001b[0;34m\u001b[0m\u001b[0m\n",
      "\u001b[0;31mNewConnectionError\u001b[0m: <requests.packages.urllib3.connection.HTTPConnection object at 0x106ca6ac8>: Failed to establish a new connection: [Errno 65] No route to host",
      "\nDuring handling of the above exception, another exception occurred:\n",
      "\u001b[0;31mMaxRetryError\u001b[0m                             Traceback (most recent call last)",
      "\u001b[0;32m/Volumes/Work/projects/pycon/lib/python3.5/site-packages/requests/adapters.py\u001b[0m in \u001b[0;36msend\u001b[0;34m(self, request, stream, timeout, verify, cert, proxies)\u001b[0m\n\u001b[1;32m    422\u001b[0m                     \u001b[0mretries\u001b[0m\u001b[0;34m=\u001b[0m\u001b[0mself\u001b[0m\u001b[0;34m.\u001b[0m\u001b[0mmax_retries\u001b[0m\u001b[0;34m,\u001b[0m\u001b[0;34m\u001b[0m\u001b[0m\n\u001b[0;32m--> 423\u001b[0;31m                     \u001b[0mtimeout\u001b[0m\u001b[0;34m=\u001b[0m\u001b[0mtimeout\u001b[0m\u001b[0;34m\u001b[0m\u001b[0m\n\u001b[0m\u001b[1;32m    424\u001b[0m                 )\n",
      "\u001b[0;32m/Volumes/Work/projects/pycon/lib/python3.5/site-packages/requests/packages/urllib3/connectionpool.py\u001b[0m in \u001b[0;36murlopen\u001b[0;34m(self, method, url, body, headers, retries, redirect, assert_same_host, timeout, pool_timeout, release_conn, chunked, **response_kw)\u001b[0m\n\u001b[1;32m    639\u001b[0m             retries = retries.increment(method, url, error=e, _pool=self,\n\u001b[0;32m--> 640\u001b[0;31m                                         _stacktrace=sys.exc_info()[2])\n\u001b[0m\u001b[1;32m    641\u001b[0m             \u001b[0mretries\u001b[0m\u001b[0;34m.\u001b[0m\u001b[0msleep\u001b[0m\u001b[0;34m(\u001b[0m\u001b[0;34m)\u001b[0m\u001b[0;34m\u001b[0m\u001b[0m\n",
      "\u001b[0;32m/Volumes/Work/projects/pycon/lib/python3.5/site-packages/requests/packages/urllib3/util/retry.py\u001b[0m in \u001b[0;36mincrement\u001b[0;34m(self, method, url, response, error, _pool, _stacktrace)\u001b[0m\n\u001b[1;32m    286\u001b[0m         \u001b[0;32mif\u001b[0m \u001b[0mnew_retry\u001b[0m\u001b[0;34m.\u001b[0m\u001b[0mis_exhausted\u001b[0m\u001b[0;34m(\u001b[0m\u001b[0;34m)\u001b[0m\u001b[0;34m:\u001b[0m\u001b[0;34m\u001b[0m\u001b[0m\n\u001b[0;32m--> 287\u001b[0;31m             \u001b[0;32mraise\u001b[0m \u001b[0mMaxRetryError\u001b[0m\u001b[0;34m(\u001b[0m\u001b[0m_pool\u001b[0m\u001b[0;34m,\u001b[0m \u001b[0murl\u001b[0m\u001b[0;34m,\u001b[0m \u001b[0merror\u001b[0m \u001b[0;32mor\u001b[0m \u001b[0mResponseError\u001b[0m\u001b[0;34m(\u001b[0m\u001b[0mcause\u001b[0m\u001b[0;34m)\u001b[0m\u001b[0;34m)\u001b[0m\u001b[0;34m\u001b[0m\u001b[0m\n\u001b[0m\u001b[1;32m    288\u001b[0m \u001b[0;34m\u001b[0m\u001b[0m\n",
      "\u001b[0;31mMaxRetryError\u001b[0m: HTTPConnectionPool(host='wen1-speedtest-1.tele2.net', port=80): Max retries exceeded with url: / (Caused by NewConnectionError('<requests.packages.urllib3.connection.HTTPConnection object at 0x106ca6ac8>: Failed to establish a new connection: [Errno 65] No route to host',))",
      "\nDuring handling of the above exception, another exception occurred:\n",
      "\u001b[0;31mConnectionError\u001b[0m                           Traceback (most recent call last)",
      "\u001b[0;32m<ipython-input-12-ee73d5ad1d00>\u001b[0m in \u001b[0;36m<module>\u001b[0;34m()\u001b[0m\n\u001b[1;32m      3\u001b[0m     \u001b[0mc\u001b[0m \u001b[0;34m=\u001b[0m \u001b[0;34m(\u001b[0m\u001b[0;34m''\u001b[0m\u001b[0;34m.\u001b[0m\u001b[0mjoin\u001b[0m\u001b[0;34m(\u001b[0m\u001b[0mcombination\u001b[0m\u001b[0;34m)\u001b[0m\u001b[0;34m)\u001b[0m\u001b[0;34m\u001b[0m\u001b[0m\n\u001b[1;32m      4\u001b[0m     \u001b[0murl\u001b[0m \u001b[0;34m=\u001b[0m \u001b[0mbase_url\u001b[0m\u001b[0;34m.\u001b[0m\u001b[0mformat\u001b[0m\u001b[0;34m(\u001b[0m\u001b[0mc\u001b[0m\u001b[0;34m)\u001b[0m\u001b[0;34m\u001b[0m\u001b[0m\n\u001b[0;32m----> 5\u001b[0;31m     \u001b[0mr\u001b[0m \u001b[0;34m=\u001b[0m \u001b[0mrequests\u001b[0m\u001b[0;34m.\u001b[0m\u001b[0mget\u001b[0m\u001b[0;34m(\u001b[0m\u001b[0murl\u001b[0m\u001b[0;34m)\u001b[0m\u001b[0;34m\u001b[0m\u001b[0m\n\u001b[0m\u001b[1;32m      6\u001b[0m     \u001b[0;32mif\u001b[0m \u001b[0mr\u001b[0m\u001b[0;34m.\u001b[0m\u001b[0mstatus_code\u001b[0m \u001b[0;34m==\u001b[0m \u001b[0;36m200\u001b[0m\u001b[0;34m:\u001b[0m\u001b[0;34m\u001b[0m\u001b[0m\n\u001b[1;32m      7\u001b[0m         \u001b[0mprint\u001b[0m \u001b[0;34m(\u001b[0m\u001b[0;34m\"A HIT!! {}\"\u001b[0m\u001b[0;34m.\u001b[0m\u001b[0mformat\u001b[0m\u001b[0;34m(\u001b[0m\u001b[0murl\u001b[0m\u001b[0;34m)\u001b[0m\u001b[0;34m)\u001b[0m\u001b[0;34m\u001b[0m\u001b[0m\n",
      "\u001b[0;32m/Volumes/Work/projects/pycon/lib/python3.5/site-packages/requests/api.py\u001b[0m in \u001b[0;36mget\u001b[0;34m(url, params, **kwargs)\u001b[0m\n\u001b[1;32m     68\u001b[0m \u001b[0;34m\u001b[0m\u001b[0m\n\u001b[1;32m     69\u001b[0m     \u001b[0mkwargs\u001b[0m\u001b[0;34m.\u001b[0m\u001b[0msetdefault\u001b[0m\u001b[0;34m(\u001b[0m\u001b[0;34m'allow_redirects'\u001b[0m\u001b[0;34m,\u001b[0m \u001b[0;32mTrue\u001b[0m\u001b[0;34m)\u001b[0m\u001b[0;34m\u001b[0m\u001b[0m\n\u001b[0;32m---> 70\u001b[0;31m     \u001b[0;32mreturn\u001b[0m \u001b[0mrequest\u001b[0m\u001b[0;34m(\u001b[0m\u001b[0;34m'get'\u001b[0m\u001b[0;34m,\u001b[0m \u001b[0murl\u001b[0m\u001b[0;34m,\u001b[0m \u001b[0mparams\u001b[0m\u001b[0;34m=\u001b[0m\u001b[0mparams\u001b[0m\u001b[0;34m,\u001b[0m \u001b[0;34m**\u001b[0m\u001b[0mkwargs\u001b[0m\u001b[0;34m)\u001b[0m\u001b[0;34m\u001b[0m\u001b[0m\n\u001b[0m\u001b[1;32m     71\u001b[0m \u001b[0;34m\u001b[0m\u001b[0m\n\u001b[1;32m     72\u001b[0m \u001b[0;34m\u001b[0m\u001b[0m\n",
      "\u001b[0;32m/Volumes/Work/projects/pycon/lib/python3.5/site-packages/requests/api.py\u001b[0m in \u001b[0;36mrequest\u001b[0;34m(method, url, **kwargs)\u001b[0m\n\u001b[1;32m     54\u001b[0m     \u001b[0;31m# cases, and look like a memory leak in others.\u001b[0m\u001b[0;34m\u001b[0m\u001b[0;34m\u001b[0m\u001b[0m\n\u001b[1;32m     55\u001b[0m     \u001b[0;32mwith\u001b[0m \u001b[0msessions\u001b[0m\u001b[0;34m.\u001b[0m\u001b[0mSession\u001b[0m\u001b[0;34m(\u001b[0m\u001b[0;34m)\u001b[0m \u001b[0;32mas\u001b[0m \u001b[0msession\u001b[0m\u001b[0;34m:\u001b[0m\u001b[0;34m\u001b[0m\u001b[0m\n\u001b[0;32m---> 56\u001b[0;31m         \u001b[0;32mreturn\u001b[0m \u001b[0msession\u001b[0m\u001b[0;34m.\u001b[0m\u001b[0mrequest\u001b[0m\u001b[0;34m(\u001b[0m\u001b[0mmethod\u001b[0m\u001b[0;34m=\u001b[0m\u001b[0mmethod\u001b[0m\u001b[0;34m,\u001b[0m \u001b[0murl\u001b[0m\u001b[0;34m=\u001b[0m\u001b[0murl\u001b[0m\u001b[0;34m,\u001b[0m \u001b[0;34m**\u001b[0m\u001b[0mkwargs\u001b[0m\u001b[0;34m)\u001b[0m\u001b[0;34m\u001b[0m\u001b[0m\n\u001b[0m\u001b[1;32m     57\u001b[0m \u001b[0;34m\u001b[0m\u001b[0m\n\u001b[1;32m     58\u001b[0m \u001b[0;34m\u001b[0m\u001b[0m\n",
      "\u001b[0;32m/Volumes/Work/projects/pycon/lib/python3.5/site-packages/requests/sessions.py\u001b[0m in \u001b[0;36mrequest\u001b[0;34m(self, method, url, params, data, headers, cookies, files, auth, timeout, allow_redirects, proxies, hooks, stream, verify, cert, json)\u001b[0m\n\u001b[1;32m    473\u001b[0m         }\n\u001b[1;32m    474\u001b[0m         \u001b[0msend_kwargs\u001b[0m\u001b[0;34m.\u001b[0m\u001b[0mupdate\u001b[0m\u001b[0;34m(\u001b[0m\u001b[0msettings\u001b[0m\u001b[0;34m)\u001b[0m\u001b[0;34m\u001b[0m\u001b[0m\n\u001b[0;32m--> 475\u001b[0;31m         \u001b[0mresp\u001b[0m \u001b[0;34m=\u001b[0m \u001b[0mself\u001b[0m\u001b[0;34m.\u001b[0m\u001b[0msend\u001b[0m\u001b[0;34m(\u001b[0m\u001b[0mprep\u001b[0m\u001b[0;34m,\u001b[0m \u001b[0;34m**\u001b[0m\u001b[0msend_kwargs\u001b[0m\u001b[0;34m)\u001b[0m\u001b[0;34m\u001b[0m\u001b[0m\n\u001b[0m\u001b[1;32m    476\u001b[0m \u001b[0;34m\u001b[0m\u001b[0m\n\u001b[1;32m    477\u001b[0m         \u001b[0;32mreturn\u001b[0m \u001b[0mresp\u001b[0m\u001b[0;34m\u001b[0m\u001b[0m\n",
      "\u001b[0;32m/Volumes/Work/projects/pycon/lib/python3.5/site-packages/requests/sessions.py\u001b[0m in \u001b[0;36msend\u001b[0;34m(self, request, **kwargs)\u001b[0m\n\u001b[1;32m    615\u001b[0m \u001b[0;34m\u001b[0m\u001b[0m\n\u001b[1;32m    616\u001b[0m         \u001b[0;31m# Resolve redirects if allowed.\u001b[0m\u001b[0;34m\u001b[0m\u001b[0;34m\u001b[0m\u001b[0m\n\u001b[0;32m--> 617\u001b[0;31m         \u001b[0mhistory\u001b[0m \u001b[0;34m=\u001b[0m \u001b[0;34m[\u001b[0m\u001b[0mresp\u001b[0m \u001b[0;32mfor\u001b[0m \u001b[0mresp\u001b[0m \u001b[0;32min\u001b[0m \u001b[0mgen\u001b[0m\u001b[0;34m]\u001b[0m \u001b[0;32mif\u001b[0m \u001b[0mallow_redirects\u001b[0m \u001b[0;32melse\u001b[0m \u001b[0;34m[\u001b[0m\u001b[0;34m]\u001b[0m\u001b[0;34m\u001b[0m\u001b[0m\n\u001b[0m\u001b[1;32m    618\u001b[0m \u001b[0;34m\u001b[0m\u001b[0m\n\u001b[1;32m    619\u001b[0m         \u001b[0;31m# Shuffle things around if there's history.\u001b[0m\u001b[0;34m\u001b[0m\u001b[0;34m\u001b[0m\u001b[0m\n",
      "\u001b[0;32m/Volumes/Work/projects/pycon/lib/python3.5/site-packages/requests/sessions.py\u001b[0m in \u001b[0;36m<listcomp>\u001b[0;34m(.0)\u001b[0m\n\u001b[1;32m    615\u001b[0m \u001b[0;34m\u001b[0m\u001b[0m\n\u001b[1;32m    616\u001b[0m         \u001b[0;31m# Resolve redirects if allowed.\u001b[0m\u001b[0;34m\u001b[0m\u001b[0;34m\u001b[0m\u001b[0m\n\u001b[0;32m--> 617\u001b[0;31m         \u001b[0mhistory\u001b[0m \u001b[0;34m=\u001b[0m \u001b[0;34m[\u001b[0m\u001b[0mresp\u001b[0m \u001b[0;32mfor\u001b[0m \u001b[0mresp\u001b[0m \u001b[0;32min\u001b[0m \u001b[0mgen\u001b[0m\u001b[0;34m]\u001b[0m \u001b[0;32mif\u001b[0m \u001b[0mallow_redirects\u001b[0m \u001b[0;32melse\u001b[0m \u001b[0;34m[\u001b[0m\u001b[0;34m]\u001b[0m\u001b[0;34m\u001b[0m\u001b[0m\n\u001b[0m\u001b[1;32m    618\u001b[0m \u001b[0;34m\u001b[0m\u001b[0m\n\u001b[1;32m    619\u001b[0m         \u001b[0;31m# Shuffle things around if there's history.\u001b[0m\u001b[0;34m\u001b[0m\u001b[0;34m\u001b[0m\u001b[0m\n",
      "\u001b[0;32m/Volumes/Work/projects/pycon/lib/python3.5/site-packages/requests/sessions.py\u001b[0m in \u001b[0;36mresolve_redirects\u001b[0;34m(self, resp, req, stream, timeout, verify, cert, proxies, **adapter_kwargs)\u001b[0m\n\u001b[1;32m    175\u001b[0m                 \u001b[0mproxies\u001b[0m\u001b[0;34m=\u001b[0m\u001b[0mproxies\u001b[0m\u001b[0;34m,\u001b[0m\u001b[0;34m\u001b[0m\u001b[0m\n\u001b[1;32m    176\u001b[0m                 \u001b[0mallow_redirects\u001b[0m\u001b[0;34m=\u001b[0m\u001b[0;32mFalse\u001b[0m\u001b[0;34m,\u001b[0m\u001b[0;34m\u001b[0m\u001b[0m\n\u001b[0;32m--> 177\u001b[0;31m                 \u001b[0;34m**\u001b[0m\u001b[0madapter_kwargs\u001b[0m\u001b[0;34m\u001b[0m\u001b[0m\n\u001b[0m\u001b[1;32m    178\u001b[0m             )\n\u001b[1;32m    179\u001b[0m \u001b[0;34m\u001b[0m\u001b[0m\n",
      "\u001b[0;32m/Volumes/Work/projects/pycon/lib/python3.5/site-packages/requests/sessions.py\u001b[0m in \u001b[0;36msend\u001b[0;34m(self, request, **kwargs)\u001b[0m\n\u001b[1;32m    594\u001b[0m \u001b[0;34m\u001b[0m\u001b[0m\n\u001b[1;32m    595\u001b[0m         \u001b[0;31m# Send the request\u001b[0m\u001b[0;34m\u001b[0m\u001b[0;34m\u001b[0m\u001b[0m\n\u001b[0;32m--> 596\u001b[0;31m         \u001b[0mr\u001b[0m \u001b[0;34m=\u001b[0m \u001b[0madapter\u001b[0m\u001b[0;34m.\u001b[0m\u001b[0msend\u001b[0m\u001b[0;34m(\u001b[0m\u001b[0mrequest\u001b[0m\u001b[0;34m,\u001b[0m \u001b[0;34m**\u001b[0m\u001b[0mkwargs\u001b[0m\u001b[0;34m)\u001b[0m\u001b[0;34m\u001b[0m\u001b[0m\n\u001b[0m\u001b[1;32m    597\u001b[0m \u001b[0;34m\u001b[0m\u001b[0m\n\u001b[1;32m    598\u001b[0m         \u001b[0;31m# Total elapsed time of the request (approximately)\u001b[0m\u001b[0;34m\u001b[0m\u001b[0;34m\u001b[0m\u001b[0m\n",
      "\u001b[0;32m/Volumes/Work/projects/pycon/lib/python3.5/site-packages/requests/adapters.py\u001b[0m in \u001b[0;36msend\u001b[0;34m(self, request, stream, timeout, verify, cert, proxies)\u001b[0m\n\u001b[1;32m    485\u001b[0m                 \u001b[0;32mraise\u001b[0m \u001b[0mProxyError\u001b[0m\u001b[0;34m(\u001b[0m\u001b[0me\u001b[0m\u001b[0;34m,\u001b[0m \u001b[0mrequest\u001b[0m\u001b[0;34m=\u001b[0m\u001b[0mrequest\u001b[0m\u001b[0;34m)\u001b[0m\u001b[0;34m\u001b[0m\u001b[0m\n\u001b[1;32m    486\u001b[0m \u001b[0;34m\u001b[0m\u001b[0m\n\u001b[0;32m--> 487\u001b[0;31m             \u001b[0;32mraise\u001b[0m \u001b[0mConnectionError\u001b[0m\u001b[0;34m(\u001b[0m\u001b[0me\u001b[0m\u001b[0;34m,\u001b[0m \u001b[0mrequest\u001b[0m\u001b[0;34m=\u001b[0m\u001b[0mrequest\u001b[0m\u001b[0;34m)\u001b[0m\u001b[0;34m\u001b[0m\u001b[0m\n\u001b[0m\u001b[1;32m    488\u001b[0m \u001b[0;34m\u001b[0m\u001b[0m\n\u001b[1;32m    489\u001b[0m         \u001b[0;32mexcept\u001b[0m \u001b[0mClosedPoolError\u001b[0m \u001b[0;32mas\u001b[0m \u001b[0me\u001b[0m\u001b[0;34m:\u001b[0m\u001b[0;34m\u001b[0m\u001b[0m\n",
      "\u001b[0;31mConnectionError\u001b[0m: HTTPConnectionPool(host='wen1-speedtest-1.tele2.net', port=80): Max retries exceeded with url: / (Caused by NewConnectionError('<requests.packages.urllib3.connection.HTTPConnection object at 0x106ca6ac8>: Failed to establish a new connection: [Errno 65] No route to host',))"
     ]
    }
   ],
   "source": [
    "processed  = []\n",
    "\n"
   ]
  },
  {
   "cell_type": "code",
   "execution_count": 13,
   "metadata": {
    "collapsed": false
   },
   "outputs": [
    {
     "data": {
      "text/plain": [
       "35477"
      ]
     },
     "execution_count": 13,
     "metadata": {},
     "output_type": "execute_result"
    }
   ],
   "source": [
    "len(processed)"
   ]
  },
  {
   "cell_type": "code",
   "execution_count": 22,
   "metadata": {
    "collapsed": false
   },
   "outputs": [
    {
     "name": "stdout",
     "output_type": "stream",
     "text": [
      "{'history': [], 'elapsed': datetime.timedelta(0, 0, 207402), 'request': <PreparedRequest [GET]>, 'connection': <requests.adapters.HTTPAdapter object at 0x1080a4fd0>, 'status_code': 200, 'headers': {'Server': 'nginx/1.4.6 (Ubuntu)', 'Date': 'Sat, 15 Oct 2016 22:54:46 GMT', 'Connection': 'keep-alive', 'X-Frame-Options': 'SAMEORIGIN', 'Content-Type': 'text/html; charset=utf-8', 'Transfer-Encoding': 'chunked', 'Content-Encoding': 'gzip'}, 'encoding': 'utf-8', '_content_consumed': True, '_content': b'\\n\\n<!DOCTYPE html>\\n<html lang=\"en\">\\n<head>\\n    <meta charset=\"UTF-8\">\\n    <title></title>\\n    <link href=\"https://fonts.googleapis.com/css?family=Marcellus+SC\" rel=\"stylesheet\">\\n    <link href=\"/static/bootstrap/css/bootstrap.min.css\" rel=\"stylesheet\" media=\"screen\">\\n    <script src=\"/static/js/jquery-2.1.4.min.js\"></script>\\n    <script src=\"/static/bootstrap/js/bootstrap.min.js\"></script>\\n    <link href=\"/static/css/font-awesome.min.css\" rel=\"stylesheet\">\\n    <link href=\"/static/css/main.css\" rel=\"stylesheet\" media=\"screen\">\\n    \\n\\n\\n</head>\\n<body>\\n\\n\\n\\n\\n\\n  <div class=\"points_to_win\">Points to win: 55</div>\\n\\n\\n\\n  <div class=\"content back\" style=\"background-image: url(/media/pelennor-fields-compressor.jpg)\">\\n    <div class=\"grey_box\">\\n    <p>Welcome to the great tournament on the fields of Pelennor. Two armies will stand\\n      face to face and battle to death or at least serious injuries. You, can bet at each\\n      fight. Unfortunately, you\\'re the most unlucky better in the whole kingdom and\\n      you have serious depts, so you feel the pressure. You need to raise 2000 Minas\\n      Tirith Crowns, but remember to bet cautiously. The best thing is that at least\\n      you have a magic sack in which you\\'ll always find 3 Crowns. Each fight can be\\n      won by each of teams or there can be a tie.</p>\\n    <h2>Minas Tirith Crowns to spend: 3.0</h2>\\n\\n    <form method=\"post\" action=\"\">\\n        \\n        <h3>BetTornado</h3>\\n        <table>\\n            <tr>\\n                <th width=\"60\">1</th>\\n                <th width=\"60\">X</th>\\n                <th width=\"80\">2</th>\\n                <th width=\"400\"></th>\\n                <th></th>\\n            </tr>\\n            \\n            <tr>\\n                <td>1.92</td>\\n                <td>5.0</td>\\n                <td>2.55</td>\\n                <td>Sporting Clube de Minas Morgul v Club Dunland KV</td>\\n                <td><p> <select id=\"id_1-0-winner\" name=\"1-0-winner\" required>\\n<option value=\"1\">1</option>\\n<option value=\"2\">2</option>\\n<option value=\"X\">X</option>\\n</select></p>\\n<p><label for=\"id_1-0-money\">Money:</label> <input id=\"id_1-0-money\" name=\"1-0-money\" step=\"0.01\" type=\"number\" value=\"1.00\" required /></p></td>\\n            </tr>\\n            \\n        </table>\\n        \\n        <h3>BetFairy</h3>\\n        <table>\\n            <tr>\\n                <th width=\"60\">1</th>\\n                <th width=\"60\">X</th>\\n                <th width=\"80\">2</th>\\n                <th width=\"400\"></th>\\n                <th></th>\\n            </tr>\\n            \\n            <tr>\\n                <td>1.68</td>\\n                <td>4.8</td>\\n                <td>3.22</td>\\n                <td>Sporting Clube de Minas Morgul v Club Dunland KV</td>\\n                <td><p> <select id=\"id_0-0-winner\" name=\"0-0-winner\" required>\\n<option value=\"1\">1</option>\\n<option value=\"2\">2</option>\\n<option value=\"X\">X</option>\\n</select></p>\\n<p><label for=\"id_0-0-money\">Money:</label> <input id=\"id_0-0-money\" name=\"0-0-money\" step=\"0.01\" type=\"number\" value=\"1.00\" required /></p></td>\\n            </tr>\\n            \\n        </table>\\n        \\n        <h3>bet-at-cave</h3>\\n        <table>\\n            <tr>\\n                <th width=\"60\">1</th>\\n                <th width=\"60\">X</th>\\n                <th width=\"80\">2</th>\\n                <th width=\"400\"></th>\\n                <th></th>\\n            </tr>\\n            \\n            <tr>\\n                <td>2.26</td>\\n                <td>3.82</td>\\n                <td>2.45</td>\\n                <td>Sporting Clube de Minas Morgul v Club Dunland KV</td>\\n                <td><p> <select id=\"id_2-0-winner\" name=\"2-0-winner\" required>\\n<option value=\"1\">1</option>\\n<option value=\"2\">2</option>\\n<option value=\"X\">X</option>\\n</select></p>\\n<p><label for=\"id_2-0-money\">Money:</label> <input id=\"id_2-0-money\" name=\"2-0-money\" step=\"0.01\" type=\"number\" value=\"1.00\" required /></p></td>\\n            </tr>\\n            \\n        </table>\\n        \\n        <input type=\"submit\" value=\"Settle\">\\n    </form>\\n  </div>\\n  </div>\\n\\n<script type=\"text/javascript\">\\n    $(document).ready(function () {\\n        $(\\'#messageModal\\').modal(\\'show\\');\\n        $(\\'.intro\\').click(function(){\\n            $(\\'#introModal\\').modal(\\'show\\');\\n        })\\n    });\\n</script>\\n</body>\\n</html>', 'reason': 'OK', 'raw': <requests.packages.urllib3.response.HTTPResponse object at 0x1080ac7f0>, 'url': 'http://139.59.208.213/Z6JHLZCM/pelennor/', 'cookies': <RequestsCookieJar[]>}\n",
      "{'history': [], 'elapsed': datetime.timedelta(0, 0, 156691), 'request': <PreparedRequest [GET]>, 'connection': <requests.adapters.HTTPAdapter object at 0x1080a4da0>, 'status_code': 302, 'headers': {'Location': 'http://speedtest.tele2.net/1000GB.zip', 'Server': 'nginx/1.4.6 (Ubuntu)', 'Date': 'Sat, 15 Oct 2016 22:54:47 GMT', 'Connection': 'keep-alive', 'X-Frame-Options': 'SAMEORIGIN', 'Content-Type': 'text/html; charset=utf-8', 'Transfer-Encoding': 'chunked'}, 'encoding': 'utf-8', '_content_consumed': True, '_content': b'', 'reason': 'Found', 'raw': <requests.packages.urllib3.response.HTTPResponse object at 0x1080ab320>, 'url': 'http://139.59.208.213/AAAAAAAA/pelennor/', 'cookies': <RequestsCookieJar[]>}\n"
     ]
    }
   ],
   "source": [
    "r = requests.get(base_url.format('Z6JHLZCM'), allow_redirects=False)\n",
    "print(repr(r.__dict__))\n",
    "r = requests.get(base_url.format('AAAAAAAA'), allow_redirects=False)\n",
    "print(repr(r.__dict__))"
   ]
  },
  {
   "cell_type": "code",
   "execution_count": null,
   "metadata": {
    "collapsed": false
   },
   "outputs": [],
   "source": [
    "def done(gen):\n",
    "    skip = len(processed)\n",
    "    for v in gen:\n",
    "        if skip == 0:\n",
    "            print(v)\n",
    "        if skip <= 0:\n",
    "            yield v\n",
    "        skip -= 1\n",
    "        \n",
    "for combination in done(combinations_with_replacement(symbols, 8)): \n",
    "    c = (''.join(combination))\n",
    "    url = base_url.format(c)\n",
    "    while True:\n",
    "        try:\n",
    "            r = requests.get(url, allow_redirects=False)\n",
    "        except ConnectionResetError:\n",
    "            sleep(1)\n",
    "        else:\n",
    "            break        \n",
    "    if r.status_code == 200 and 'Location' not in r.headers:\n",
    "        print (\"A HIT!! {}\".format(url))\n",
    "    processed.append(c)\n",
    "    \n",
    "    \n",
    "\n"
   ]
  },
  {
   "cell_type": "code",
   "execution_count": null,
   "metadata": {
    "collapsed": true
   },
   "outputs": [],
   "source": []
  },
  {
   "cell_type": "code",
   "execution_count": 42,
   "metadata": {
    "collapsed": false
   },
   "outputs": [
    {
     "data": {
      "text/plain": [
       "125192"
      ]
     },
     "execution_count": 42,
     "metadata": {},
     "output_type": "execute_result"
    }
   ],
   "source": [
    "len(processed)"
   ]
  },
  {
   "cell_type": "code",
   "execution_count": null,
   "metadata": {
    "collapsed": false
   },
   "outputs": [
    {
     "name": "stdout",
     "output_type": "stream",
     "text": [
      "('A', 'A', 'A', 'B', 'I', 'J', 'Q', '7')\n"
     ]
    }
   ],
   "source": [
    "def done(gen):\n",
    "    skip = len(processed)\n",
    "    for v in gen:\n",
    "        if skip == 0:\n",
    "            print(v)\n",
    "        if skip <= 0:\n",
    "            yield v\n",
    "        skip -= 1\n",
    "        \n",
    "for combination in done(combinations_with_replacement(symbols, 8)): \n",
    "    c = (''.join(combination))\n",
    "    url = base_url.format(c)\n",
    "    while True:\n",
    "        try:\n",
    "            r = requests.get(url, allow_redirects=False)\n",
    "        except ConnectionResetError:\n",
    "            sleep(1)\n",
    "        else:\n",
    "            break        \n",
    "    if r.status_code == 200 and 'Location' not in r.headers:\n",
    "        print (\"A HIT!! {}\".format(url))\n",
    "    processed.append(c)\n",
    "    "
   ]
  },
  {
   "cell_type": "code",
   "execution_count": null,
   "metadata": {
    "collapsed": true
   },
   "outputs": [],
   "source": []
  }
 ],
 "metadata": {
  "kernelspec": {
   "display_name": "Python 3",
   "language": "python",
   "name": "python3"
  },
  "language_info": {
   "codemirror_mode": {
    "name": "ipython",
    "version": 3
   },
   "file_extension": ".py",
   "mimetype": "text/x-python",
   "name": "python",
   "nbconvert_exporter": "python",
   "pygments_lexer": "ipython3",
   "version": "3.5.2"
  }
 },
 "nbformat": 4,
 "nbformat_minor": 1
}
