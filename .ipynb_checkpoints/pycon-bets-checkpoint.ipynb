{
 "cells": [
  {
   "cell_type": "code",
   "execution_count": 160,
   "metadata": {
    "collapsed": true
   },
   "outputs": [],
   "source": [
    "import requests\n",
    "from parsel import Selector\n",
    "from collections import OrderedDict\n",
    "url = 'http://139.59.208.213/YPQ8CT3G/pelennor/'"
   ]
  },
  {
   "cell_type": "code",
   "execution_count": 254,
   "metadata": {
    "collapsed": false
   },
   "outputs": [],
   "source": [
    "def get_odds(r):\n",
    "    sel = Selector(text=r.text)\n",
    "    extr = sel.css('table td::text').extract()\n",
    "    #print (extr)\n",
    "    indexes = []\n",
    "    id_names = sel.css('input::attr(\"id\")').extract()\n",
    "    for id_val in sel.css('input::attr(\"id\")').extract():\n",
    "        #indexes.append(int((id_val[3:4] + id_val[5:6])))\n",
    "        indexes.append(id_val)\n",
    "    ps = {}\n",
    "    for idx in range(0, len(indexes)):\n",
    "        if extr[idx*5+3] not in ps:\n",
    "            ps[extr[idx*5+3]] = {}\n",
    "        ps[extr[idx*5+3]].update({indexes[idx]: extr[idx*5: idx*5+3]})\n",
    "    #ps = list(map(float, ps))\n",
    "    return ps\n"
   ]
  },
  {
   "cell_type": "code",
   "execution_count": 255,
   "metadata": {
    "collapsed": false
   },
   "outputs": [
    {
     "name": "stdout",
     "output_type": "stream",
     "text": [
      "{'Greenway v PFC CSKA Egladil': {'id_0-0-money': ['2.74', '4.0', '1.99'], 'id_3-0-money': ['2.81', '2.66', '2.62'], 'id_1-0-money': ['3.06', '4.0', '1.86']}, 'SSC Dunharrow v Hobbiton CF': {'id_2-1-money': ['2.97', '14.0', '1.42'], 'id_3-1-money': ['3.05', '13.6', '1.4'], 'id_4-1-money': ['2.14', '10.8', '1.8']}}\n"
     ]
    }
   ],
   "source": [
    "total = 3.0\n",
    "r = requests.get(url)\n",
    "odds = get_odds(r)\n",
    "print(odds)"
   ]
  },
  {
   "cell_type": "code",
   "execution_count": 275,
   "metadata": {
    "collapsed": false
   },
   "outputs": [],
   "source": [
    "def do_bet():\n",
    "    global odds, total\n",
    "    import math\n",
    "    \n",
    "    all_ids = set()\n",
    "    \n",
    "    for match, match_data in odds.items():\n",
    "        for bookie, bookie_data in match_data.items():\n",
    "            all_ids.add(bookie)\n",
    "\n",
    "    for match, match_data in odds.items():\n",
    "        #print(match)\n",
    "\n",
    "        data = OrderedDict()\n",
    "        for id_ in all_ids:\n",
    "            data['{}-winner'.format(id_[3:-6])] = \"1\"\n",
    "            data['{}-money'.format(id_[3:-6])] = \"0.00\"\n",
    "\n",
    "        match_ids = []\n",
    "        odds_for = {\n",
    "            '1': [],\n",
    "            'X': [],\n",
    "            '2': [],\n",
    "        }\n",
    "        \n",
    "        for bookie, bookie_data in match_data.items():\n",
    "            match_ids.append(bookie)\n",
    "            odds_for['1'].append(float(bookie_data[0]))\n",
    "            odds_for['X'].append(float(bookie_data[1]))\n",
    "            odds_for['2'].append(float(bookie_data[2]))\n",
    "    \n",
    "        if len(match_ids) < 3:\n",
    "            continue\n",
    "    \n",
    "        #print(odds_for)\n",
    "\n",
    "        bets = {}\n",
    "        while odds_for:\n",
    "            best_odds = 0.\n",
    "            best_result = None\n",
    "            for result, bet_odds in odds_for.items():\n",
    "                m = max(bet_odds)\n",
    "                if m > best_odds:\n",
    "                    best_odds = m\n",
    "                    best_result = result\n",
    "            index = odds_for[best_result].index(best_odds)\n",
    "            del odds_for[best_result]\n",
    "            for bet_odds in odds_for.values():\n",
    "                bet_odds[index:index + 1] = [-1]\n",
    "            bets[best_result] = (index, best_odds)\n",
    "        #print(repr(bets))\n",
    "\n",
    "        total_odds = sum(map(lambda b: b[1], bets.values()))\n",
    "        a1 = round(total / bets['1'][1], 2)\n",
    "        a2 = round(total / bets['2'][1], 2)\n",
    "        aX = round(total / bets['X'][1], 2)\n",
    "\n",
    "        required = a1 + a2 + aX\n",
    "        #print(a1, a2, aX, required, total, required < total)\n",
    "\n",
    "        if total >= required:\n",
    "            place_bets = {}\n",
    "            for result, (index, odds_) in bets.items():\n",
    "                if result == '1':\n",
    "                    ammount = a1\n",
    "                elif result == '2':\n",
    "                    ammount = a2\n",
    "                else:\n",
    "                    ammount = aX\n",
    "                place_bets[index] = (result, ammount, odds_)\n",
    "\n",
    "            #print(place_bets)\n",
    "            if all(p[1] * p[2] > required for p in place_bets.values()):\n",
    "                for i, pb in place_bets.items():\n",
    "                    data['{}-winner'.format(match_ids[i][3:-6])] = pb[0]\n",
    "                    data['{}-money'.format(match_ids[i][3:-6])] = pb[1]\n",
    "                #print('betting', data)\n",
    "                break\n",
    "\n",
    "    #print(data)\n",
    "    if True:\n",
    "        r = requests.post(url, data=data)\n",
    "        #print(r.text)\n",
    "        sel = Selector(text=r.text)\n",
    "        total = float(sel.css('.money::text').extract_first())\n",
    "        extr = sel.css('table td::text').extract()\n",
    "        #print (total)\n",
    "        #for i in range(0, len(extr), 8):\n",
    "        #    print(extr[i:i + 8])\n",
    "        r = requests.post(url)\n",
    "        odds = get_odds(r)\n",
    "        #print(odds)\n"
   ]
  },
  {
   "cell_type": "code",
   "execution_count": 281,
   "metadata": {
    "collapsed": false
   },
   "outputs": [
    {
     "name": "stdout",
     "output_type": "stream",
     "text": [
      "43.02\n",
      "44.77\n",
      "46.78\n",
      "48.9\n",
      "50.94\n",
      "53.04\n",
      "55.45\n",
      "57.89\n",
      "60.55\n",
      "63.13\n",
      "66.09\n",
      "69.19\n",
      "72.08\n",
      "75.21\n",
      "78.54\n",
      "82.14\n",
      "85.85\n",
      "89.55\n",
      "93.43\n",
      "97.57\n",
      "102.12\n",
      "106.73\n",
      "111.62\n",
      "116.82\n",
      "121.83\n",
      "127.5\n",
      "133.11\n",
      "139.19\n",
      "145.62\n",
      "152.39\n",
      "159.38\n",
      "166.73\n",
      "173.82\n",
      "181.24\n",
      "189.21\n",
      "197.31\n",
      "206.22\n",
      "214.59\n",
      "224.34\n",
      "234.58\n",
      "244.59\n",
      "255.42\n",
      "267.21\n",
      "278.78\n",
      "291.08\n",
      "304.47\n",
      "317.98\n",
      "331.67\n",
      "346.76\n",
      "362.23\n",
      "378.5\n",
      "395.86\n",
      "413.79\n",
      "431.68\n",
      "451.67\n",
      "472.9\n",
      "494.52\n",
      "517.72\n",
      "541.0\n",
      "563.68\n",
      "590.04\n",
      "616.96\n",
      "644.82\n",
      "673.0\n",
      "701.64\n",
      "733.74\n",
      "767.57\n",
      "802.56\n",
      "839.22\n",
      "874.67\n",
      "914.14\n",
      "956.19\n",
      "1000.3\n",
      "1000.3\n",
      "1000.3\n",
      "1044.93\n",
      "1092.6\n",
      "1092.6\n",
      "1092.6\n",
      "1139.92\n",
      "1190.32\n",
      "1246.05\n",
      "1302.35\n",
      "1362.04\n",
      "1424.25\n",
      "1490.61\n",
      "1490.61\n",
      "1558.56\n",
      "1630.15\n",
      "1700.4\n",
      "1700.4\n",
      "1767.64\n",
      "1767.64\n",
      "1834.2\n",
      "1917.04\n"
     ]
    },
    {
     "ename": "TypeError",
     "evalue": "float() argument must be a string or a number, not 'NoneType'",
     "output_type": "error",
     "traceback": [
      "\u001b[0;31m---------------------------------------------------------------------------\u001b[0m",
      "\u001b[0;31mTypeError\u001b[0m                                 Traceback (most recent call last)",
      "\u001b[0;32m<ipython-input-281-9e81570a44e4>\u001b[0m in \u001b[0;36m<module>\u001b[0;34m()\u001b[0m\n\u001b[1;32m      1\u001b[0m \u001b[0;32mwhile\u001b[0m \u001b[0mtotal\u001b[0m \u001b[0;34m<\u001b[0m \u001b[0;36m2000\u001b[0m\u001b[0;34m:\u001b[0m\u001b[0;34m\u001b[0m\u001b[0m\n\u001b[0;32m----> 2\u001b[0;31m     \u001b[0mdo_bet\u001b[0m\u001b[0;34m(\u001b[0m\u001b[0;34m)\u001b[0m\u001b[0;34m\u001b[0m\u001b[0m\n\u001b[0m\u001b[1;32m      3\u001b[0m     \u001b[0mprint\u001b[0m \u001b[0;34m(\u001b[0m\u001b[0mtotal\u001b[0m\u001b[0;34m)\u001b[0m\u001b[0;34m\u001b[0m\u001b[0m\n",
      "\u001b[0;32m<ipython-input-275-0a4c1b1ea801>\u001b[0m in \u001b[0;36mdo_bet\u001b[0;34m()\u001b[0m\n\u001b[1;32m     83\u001b[0m         \u001b[0;31m#print(r.text)\u001b[0m\u001b[0;34m\u001b[0m\u001b[0;34m\u001b[0m\u001b[0m\n\u001b[1;32m     84\u001b[0m         \u001b[0msel\u001b[0m \u001b[0;34m=\u001b[0m \u001b[0mSelector\u001b[0m\u001b[0;34m(\u001b[0m\u001b[0mtext\u001b[0m\u001b[0;34m=\u001b[0m\u001b[0mr\u001b[0m\u001b[0;34m.\u001b[0m\u001b[0mtext\u001b[0m\u001b[0;34m)\u001b[0m\u001b[0;34m\u001b[0m\u001b[0m\n\u001b[0;32m---> 85\u001b[0;31m         \u001b[0mtotal\u001b[0m \u001b[0;34m=\u001b[0m \u001b[0mfloat\u001b[0m\u001b[0;34m(\u001b[0m\u001b[0msel\u001b[0m\u001b[0;34m.\u001b[0m\u001b[0mcss\u001b[0m\u001b[0;34m(\u001b[0m\u001b[0;34m'.money::text'\u001b[0m\u001b[0;34m)\u001b[0m\u001b[0;34m.\u001b[0m\u001b[0mextract_first\u001b[0m\u001b[0;34m(\u001b[0m\u001b[0;34m)\u001b[0m\u001b[0;34m)\u001b[0m\u001b[0;34m\u001b[0m\u001b[0m\n\u001b[0m\u001b[1;32m     86\u001b[0m         \u001b[0mextr\u001b[0m \u001b[0;34m=\u001b[0m \u001b[0msel\u001b[0m\u001b[0;34m.\u001b[0m\u001b[0mcss\u001b[0m\u001b[0;34m(\u001b[0m\u001b[0;34m'table td::text'\u001b[0m\u001b[0;34m)\u001b[0m\u001b[0;34m.\u001b[0m\u001b[0mextract\u001b[0m\u001b[0;34m(\u001b[0m\u001b[0;34m)\u001b[0m\u001b[0;34m\u001b[0m\u001b[0m\n\u001b[1;32m     87\u001b[0m         \u001b[0;31m#print (total)\u001b[0m\u001b[0;34m\u001b[0m\u001b[0;34m\u001b[0m\u001b[0m\n",
      "\u001b[0;31mTypeError\u001b[0m: float() argument must be a string or a number, not 'NoneType'"
     ]
    }
   ],
   "source": [
    "while total < 2000:\n",
    "    do_bet()\n",
    "    print (total)"
   ]
  },
  {
   "cell_type": "code",
   "execution_count": 279,
   "metadata": {
    "collapsed": false
   },
   "outputs": [
    {
     "data": {
      "text/plain": [
       "[2.74, 4.0, 1.99, 3.06, 4.0, 1.86, 2.97, 14.0, 1.42]"
      ]
     },
     "execution_count": 279,
     "metadata": {},
     "output_type": "execute_result"
    }
   ],
   "source": [
    "sel = Selector(text=r.text)\n",
    "extr = sel.css('table td::text').extract()\n",
    "ps = []\n",
    "ps = extr[0:3] + extr[5:8] + extr[10:13]\n",
    "ps = list(map(float, ps))\n",
    "ps"
   ]
  },
  {
   "cell_type": "code",
   "execution_count": null,
   "metadata": {
    "collapsed": true
   },
   "outputs": [],
   "source": []
  }
 ],
 "metadata": {
  "kernelspec": {
   "display_name": "Python 3",
   "language": "python",
   "name": "python3"
  },
  "language_info": {
   "codemirror_mode": {
    "name": "ipython",
    "version": 3
   },
   "file_extension": ".py",
   "mimetype": "text/x-python",
   "name": "python",
   "nbconvert_exporter": "python",
   "pygments_lexer": "ipython3",
   "version": "3.5.2"
  }
 },
 "nbformat": 4,
 "nbformat_minor": 1
}
